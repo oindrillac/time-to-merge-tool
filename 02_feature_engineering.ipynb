{
 "cells": [
  {
   "cell_type": "markdown",
   "id": "6a8d0182",
   "metadata": {
    "tags": []
   },
   "source": [
    "# Feature engineering on extracted Pull Requests data\n",
    "\n",
    "\n",
    "## What we did previously\n",
    "\n",
    "In the previous step, we collected data from a Github repository of choice and store them on S3 storage\n",
    "\n",
    "## In this step\n",
    "\n",
    "In this notebook we will walk through how to start analyzing the PR data collected from a Github repository.\n",
    "\n",
    "We explore the various fields in the PR dataset and the features that we can derive from them in order to frame an a Machine Learning where we predict the time taken to merge a PR."
   ]
  },
  {
   "cell_type": "code",
   "execution_count": 1,
   "id": "dfe11a56",
   "metadata": {},
   "outputs": [],
   "source": [
    "import os\n",
    "import re\n",
    "import gzip\n",
    "import json\n",
    "import boto3\n",
    "import pathlib\n",
    "import datetime\n",
    "from tqdm import tqdm\n",
    "from io import BytesIO\n",
    "from pathlib import Path\n",
    "from functools import partial\n",
    "from collections import Counter\n",
    "from github import Github\n",
    "\n",
    "import numpy as np\n",
    "import pandas as pd\n",
    "\n",
    "import matplotlib.pyplot as plt\n",
    "import seaborn as sns\n",
    "from wordcloud import STOPWORDS\n",
    "\n",
    "from sklearn.feature_selection import SelectKBest\n",
    "from sklearn.feature_selection import chi2\n",
    "from sklearn.feature_selection import mutual_info_classif, f_classif\n",
    "\n",
    "from dotenv import load_dotenv, find_dotenv\n",
    "import ceph_comm"
   ]
  },
  {
   "cell_type": "code",
   "execution_count": 2,
   "id": "9476e951",
   "metadata": {},
   "outputs": [
    {
     "data": {
      "text/plain": [
       "True"
      ]
     },
     "execution_count": 2,
     "metadata": {},
     "output_type": "execute_result"
    }
   ],
   "source": [
    "sns.set(rc={\"figure.figsize\": (20, 10)})\n",
    "load_dotenv(find_dotenv(), override=True)"
   ]
  },
  {
   "cell_type": "code",
   "execution_count": 3,
   "id": "9bc3a2c6",
   "metadata": {},
   "outputs": [],
   "source": [
    "## CEPH Bucket variables\n",
    "## Create a .env file on your local with the correct configs,\n",
    "\n",
    "ORG = os.getenv(\"GITHUB_ORG\")\n",
    "REPO = os.getenv(\"GITHUB_REPO\")\n",
    "\n",
    "## S3 bucket credentials\n",
    "s3_endpoint_url = os.getenv(\"S3_ENDPOINT_URL\")\n",
    "s3_access_key = os.getenv(\"S3_ACCESS_KEY\")\n",
    "s3_secret_key = os.getenv(\"S3_SECRET_KEY\")\n",
    "s3_bucket = os.getenv(\"S3_BUCKET\")\n",
    "\n",
    "REMOTE = os.getenv(\"REMOTE\")\n",
    "\n",
    "s3_input_data_path = os.getenv(\"CEPH_BUCKET_PREFIX\")\n",
    "\n",
    "RAW_DATA_PATH = os.path.join(s3_input_data_path, ORG, REPO)\n",
    "TOKEN = os.getenv(\"GITHUB_ACCESS_TOKEN\")"
   ]
  },
  {
   "cell_type": "code",
   "execution_count": 4,
   "id": "38f32d2b-22dc-419b-b76a-ce41e35ef58e",
   "metadata": {},
   "outputs": [],
   "source": [
    "# Collect PRs and combine them\n",
    "cc = ceph_comm.CephCommunication(s3_endpoint_url, s3_access_key, s3_secret_key, s3_bucket)\n",
    "\n",
    "# how many files of the given extension were changed in PR\n",
    "CLOSED_PR_IDS_FILENAME = os.path.join(ORG + REPO + \"CLOSED_PR_IDS.parquet\")\n",
    "CLOSED_PRS_KEY = os.path.join(s3_input_data_path, ORG, REPO, \"closed_prs\")\n",
    "PR_ID_DF = cc.read_from_ceph(CLOSED_PRS_KEY, CLOSED_PR_IDS_FILENAME)\n",
    "pr_ids = list(PR_ID_DF['closed_pr_ids'])\n",
    "\n",
    "REPO_PATH = os.path.join(s3_input_data_path, ORG, REPO)\n",
    "\n",
    "appended_prs = []\n",
    "for pr_id in pr_ids:\n",
    "    PR_PATH = os.path.join(REPO_PATH, \"PRs/\"+ str(pr_id) + \".json\")\n",
    "    pr = cc.get_json_from_ceph(PR_PATH)\n",
    "    appended_prs.append(pr)\n",
    "\n",
    "appended_prs = pd.concat(appended_prs)"
   ]
  },
  {
   "cell_type": "code",
   "execution_count": 5,
   "id": "115b9040-4b29-4445-b34a-3c1183707464",
   "metadata": {},
   "outputs": [
    {
     "data": {
      "text/html": [
       "<div>\n",
       "<style scoped>\n",
       "    .dataframe tbody tr th:only-of-type {\n",
       "        vertical-align: middle;\n",
       "    }\n",
       "\n",
       "    .dataframe tbody tr th {\n",
       "        vertical-align: top;\n",
       "    }\n",
       "\n",
       "    .dataframe thead th {\n",
       "        text-align: right;\n",
       "    }\n",
       "</style>\n",
       "<table border=\"1\" class=\"dataframe\">\n",
       "  <thead>\n",
       "    <tr style=\"text-align: right;\">\n",
       "      <th></th>\n",
       "      <th>title</th>\n",
       "      <th>body</th>\n",
       "      <th>size</th>\n",
       "      <th>created_by</th>\n",
       "      <th>created_at</th>\n",
       "      <th>closed_at</th>\n",
       "      <th>closed_by</th>\n",
       "      <th>merged_at</th>\n",
       "      <th>merged_by</th>\n",
       "      <th>commits_number</th>\n",
       "      <th>changed_files_number</th>\n",
       "      <th>interactions</th>\n",
       "      <th>reviews</th>\n",
       "      <th>labels</th>\n",
       "      <th>commits</th>\n",
       "      <th>changed_files</th>\n",
       "      <th>first_review_at</th>\n",
       "      <th>first_approve_at</th>\n",
       "    </tr>\n",
       "  </thead>\n",
       "  <tbody>\n",
       "    <tr>\n",
       "      <th>0</th>\n",
       "      <td>use os.Stdout.WriteString instead of fmt.Printf</td>\n",
       "      <td>This PR removes usage of `fmt.Printf` so that ...</td>\n",
       "      <td>XS</td>\n",
       "      <td>RobotSail</td>\n",
       "      <td>1667591915</td>\n",
       "      <td>1667592021</td>\n",
       "      <td>RobotSail</td>\n",
       "      <td>1667592021</td>\n",
       "      <td>RobotSail</td>\n",
       "      <td>1</td>\n",
       "      <td>1</td>\n",
       "      <td>{'codecov-commenter': 337}</td>\n",
       "      <td>{}</td>\n",
       "      <td>[]</td>\n",
       "      <td>[113e0554aa9410c079ab11f2f8d2409f0a9dfad5]</td>\n",
       "      <td>[pkg/cmd/utils.go]</td>\n",
       "      <td>None</td>\n",
       "      <td>None</td>\n",
       "    </tr>\n",
       "    <tr>\n",
       "      <th>0</th>\n",
       "      <td>Outputs JSON contents to STDOUT</td>\n",
       "      <td>This PR outputs the results of the generation ...</td>\n",
       "      <td>XS</td>\n",
       "      <td>RobotSail</td>\n",
       "      <td>1667590403</td>\n",
       "      <td>1667590430</td>\n",
       "      <td>RobotSail</td>\n",
       "      <td>1667590430</td>\n",
       "      <td>RobotSail</td>\n",
       "      <td>1</td>\n",
       "      <td>1</td>\n",
       "      <td>{}</td>\n",
       "      <td>{}</td>\n",
       "      <td>[]</td>\n",
       "      <td>[a97997d32d4652d128cec31663d83dd972cb715d]</td>\n",
       "      <td>[pkg/cmd/utils.go]</td>\n",
       "      <td>None</td>\n",
       "      <td>None</td>\n",
       "    </tr>\n",
       "    <tr>\n",
       "      <th>0</th>\n",
       "      <td>Adds BigModel BLOOM and Eleuther.AI's GPT-J as...</td>\n",
       "      <td>This PR introduces a new interface for `Edit` ...</td>\n",
       "      <td>XL</td>\n",
       "      <td>RobotSail</td>\n",
       "      <td>1663081005</td>\n",
       "      <td>1664395894</td>\n",
       "      <td>djach7</td>\n",
       "      <td>1664395894</td>\n",
       "      <td>djach7</td>\n",
       "      <td>11</td>\n",
       "      <td>25</td>\n",
       "      <td>{'codecov-commenter': 337}</td>\n",
       "      <td>{'1124247655': {'author': 'djach7', 'words_cou...</td>\n",
       "      <td>[]</td>\n",
       "      <td>[5152223b6339170ded40fa6622d48498532fd62a, e18...</td>\n",
       "      <td>[.gitignore, .golangci.yaml, go.mod, go.sum, p...</td>\n",
       "      <td>1664393191</td>\n",
       "      <td>1664393191</td>\n",
       "    </tr>\n",
       "    <tr>\n",
       "      <th>0</th>\n",
       "      <td>Create copilot-ops branding</td>\n",
       "      <td>This PR introduces a simple logo which can ser...</td>\n",
       "      <td>S</td>\n",
       "      <td>RobotSail</td>\n",
       "      <td>1660155398</td>\n",
       "      <td>1661870100</td>\n",
       "      <td>RobotSail</td>\n",
       "      <td>1661870100</td>\n",
       "      <td>RobotSail</td>\n",
       "      <td>7</td>\n",
       "      <td>2</td>\n",
       "      <td>{'djach7': 1, 'codecov-commenter': 288}</td>\n",
       "      <td>{'1068760500': {'author': 'djach7', 'words_cou...</td>\n",
       "      <td>[]</td>\n",
       "      <td>[e191ced920f3d642a3b193bd8724078470d84f8d, 018...</td>\n",
       "      <td>[README.md, public/copilot-ops-logo.png]</td>\n",
       "      <td>1660156926</td>\n",
       "      <td>1660156926</td>\n",
       "    </tr>\n",
       "    <tr>\n",
       "      <th>0</th>\n",
       "      <td>install git in the dockerfile</td>\n",
       "      <td>Signed-off-by: Guy Margalit &lt;guymguym@gmail.com&gt;</td>\n",
       "      <td>XS</td>\n",
       "      <td>guymguym</td>\n",
       "      <td>1659987590</td>\n",
       "      <td>1659987800</td>\n",
       "      <td>guymguym</td>\n",
       "      <td>1659987800</td>\n",
       "      <td>guymguym</td>\n",
       "      <td>1</td>\n",
       "      <td>1</td>\n",
       "      <td>{'codecov-commenter': 241}</td>\n",
       "      <td>{}</td>\n",
       "      <td>[]</td>\n",
       "      <td>[14740dc4b69b7ebcb1914b296e55c240e5e29593]</td>\n",
       "      <td>[Dockerfile]</td>\n",
       "      <td>None</td>\n",
       "      <td>None</td>\n",
       "    </tr>\n",
       "  </tbody>\n",
       "</table>\n",
       "</div>"
      ],
      "text/plain": [
       "                                               title  \\\n",
       "0    use os.Stdout.WriteString instead of fmt.Printf   \n",
       "0                    Outputs JSON contents to STDOUT   \n",
       "0  Adds BigModel BLOOM and Eleuther.AI's GPT-J as...   \n",
       "0                        Create copilot-ops branding   \n",
       "0                      install git in the dockerfile   \n",
       "\n",
       "                                                body size created_by  \\\n",
       "0  This PR removes usage of `fmt.Printf` so that ...   XS  RobotSail   \n",
       "0  This PR outputs the results of the generation ...   XS  RobotSail   \n",
       "0  This PR introduces a new interface for `Edit` ...   XL  RobotSail   \n",
       "0  This PR introduces a simple logo which can ser...    S  RobotSail   \n",
       "0   Signed-off-by: Guy Margalit <guymguym@gmail.com>   XS   guymguym   \n",
       "\n",
       "   created_at   closed_at  closed_by   merged_at  merged_by  commits_number  \\\n",
       "0  1667591915  1667592021  RobotSail  1667592021  RobotSail               1   \n",
       "0  1667590403  1667590430  RobotSail  1667590430  RobotSail               1   \n",
       "0  1663081005  1664395894     djach7  1664395894     djach7              11   \n",
       "0  1660155398  1661870100  RobotSail  1661870100  RobotSail               7   \n",
       "0  1659987590  1659987800   guymguym  1659987800   guymguym               1   \n",
       "\n",
       "   changed_files_number                             interactions  \\\n",
       "0                     1               {'codecov-commenter': 337}   \n",
       "0                     1                                       {}   \n",
       "0                    25               {'codecov-commenter': 337}   \n",
       "0                     2  {'djach7': 1, 'codecov-commenter': 288}   \n",
       "0                     1               {'codecov-commenter': 241}   \n",
       "\n",
       "                                             reviews labels  \\\n",
       "0                                                 {}     []   \n",
       "0                                                 {}     []   \n",
       "0  {'1124247655': {'author': 'djach7', 'words_cou...     []   \n",
       "0  {'1068760500': {'author': 'djach7', 'words_cou...     []   \n",
       "0                                                 {}     []   \n",
       "\n",
       "                                             commits  \\\n",
       "0         [113e0554aa9410c079ab11f2f8d2409f0a9dfad5]   \n",
       "0         [a97997d32d4652d128cec31663d83dd972cb715d]   \n",
       "0  [5152223b6339170ded40fa6622d48498532fd62a, e18...   \n",
       "0  [e191ced920f3d642a3b193bd8724078470d84f8d, 018...   \n",
       "0         [14740dc4b69b7ebcb1914b296e55c240e5e29593]   \n",
       "\n",
       "                                       changed_files first_review_at  \\\n",
       "0                                 [pkg/cmd/utils.go]            None   \n",
       "0                                 [pkg/cmd/utils.go]            None   \n",
       "0  [.gitignore, .golangci.yaml, go.mod, go.sum, p...      1664393191   \n",
       "0           [README.md, public/copilot-ops-logo.png]      1660156926   \n",
       "0                                       [Dockerfile]            None   \n",
       "\n",
       "  first_approve_at  \n",
       "0             None  \n",
       "0             None  \n",
       "0       1664393191  \n",
       "0       1660156926  \n",
       "0             None  "
      ]
     },
     "execution_count": 5,
     "metadata": {},
     "output_type": "execute_result"
    }
   ],
   "source": [
    "appended_prs.head()"
   ]
  },
  {
   "cell_type": "code",
   "execution_count": 6,
   "id": "d02d7136-2bb4-4ec8-903c-315afb22c524",
   "metadata": {},
   "outputs": [
    {
     "data": {
      "text/plain": [
       "{'ResponseMetadata': {'RequestId': 'lacz3vr3-a3ug9s-m72',\n",
       "  'HostId': 'lacz3vr3-a3ug9s-m72',\n",
       "  'HTTPStatusCode': 200,\n",
       "  'HTTPHeaders': {'x-amz-request-id': 'lacz3vr3-a3ug9s-m72',\n",
       "   'x-amz-id-2': 'lacz3vr3-a3ug9s-m72',\n",
       "   'access-control-allow-origin': '*',\n",
       "   'access-control-allow-credentials': 'true',\n",
       "   'access-control-allow-methods': 'GET,POST,PUT,DELETE,OPTIONS',\n",
       "   'access-control-allow-headers': 'Content-Type,Content-MD5,Authorization,X-Amz-User-Agent,X-Amz-Date,ETag,X-Amz-Content-Sha256',\n",
       "   'access-control-expose-headers': 'ETag,X-Amz-Version-Id',\n",
       "   'etag': '\"f848a3543bdb6aa06fe65d48653dfb52\"',\n",
       "   'date': 'Fri, 11 Nov 2022 20:50:31 GMT',\n",
       "   'keep-alive': 'timeout=5',\n",
       "   'content-length': '0',\n",
       "   'set-cookie': '1a4aa612fe797ac8466d7ee00e5520d5=a26d7dd2bae782e2ad6181b7887b5ff1; path=/; HttpOnly; Secure; SameSite=None'},\n",
       "  'RetryAttempts': 0},\n",
       " 'ETag': '\"f848a3543bdb6aa06fe65d48653dfb52\"'}"
      ]
     },
     "execution_count": 6,
     "metadata": {},
     "output_type": "execute_result"
    }
   ],
   "source": [
    "cc.upload_to_ceph_as_json(appended_prs, RAW_DATA_PATH, \"PullRequest.json\")"
   ]
  },
  {
   "cell_type": "code",
   "execution_count": 7,
   "id": "4d1b0d9f",
   "metadata": {},
   "outputs": [
    {
     "name": "stdout",
     "output_type": "stream",
     "text": [
      "getting dataset from ceph\n"
     ]
    }
   ],
   "source": [
    "print(\"getting dataset from ceph\")\n",
    "pr_df = cc.get_json_from_ceph(os.path.join(RAW_DATA_PATH, \"PullRequest.json\"))"
   ]
  },
  {
   "cell_type": "code",
   "execution_count": 8,
   "id": "70c24185-4fbf-4287-98fd-c8d721ef71fa",
   "metadata": {},
   "outputs": [
    {
     "data": {
      "text/html": [
       "<div>\n",
       "<style scoped>\n",
       "    .dataframe tbody tr th:only-of-type {\n",
       "        vertical-align: middle;\n",
       "    }\n",
       "\n",
       "    .dataframe tbody tr th {\n",
       "        vertical-align: top;\n",
       "    }\n",
       "\n",
       "    .dataframe thead th {\n",
       "        text-align: right;\n",
       "    }\n",
       "</style>\n",
       "<table border=\"1\" class=\"dataframe\">\n",
       "  <thead>\n",
       "    <tr style=\"text-align: right;\">\n",
       "      <th></th>\n",
       "      <th>title</th>\n",
       "      <th>body</th>\n",
       "      <th>size</th>\n",
       "      <th>created_by</th>\n",
       "      <th>created_at</th>\n",
       "      <th>closed_at</th>\n",
       "      <th>closed_by</th>\n",
       "      <th>merged_at</th>\n",
       "      <th>merged_by</th>\n",
       "      <th>commits_number</th>\n",
       "      <th>changed_files_number</th>\n",
       "      <th>interactions</th>\n",
       "      <th>reviews</th>\n",
       "      <th>labels</th>\n",
       "      <th>commits</th>\n",
       "      <th>changed_files</th>\n",
       "      <th>first_review_at</th>\n",
       "      <th>first_approve_at</th>\n",
       "    </tr>\n",
       "  </thead>\n",
       "  <tbody>\n",
       "    <tr>\n",
       "      <th>0</th>\n",
       "      <td>use os.Stdout.WriteString instead of fmt.Printf</td>\n",
       "      <td>This PR removes usage of `fmt.Printf` so that ...</td>\n",
       "      <td>XS</td>\n",
       "      <td>RobotSail</td>\n",
       "      <td>1667591915</td>\n",
       "      <td>1667592021</td>\n",
       "      <td>RobotSail</td>\n",
       "      <td>1.667592e+09</td>\n",
       "      <td>RobotSail</td>\n",
       "      <td>1</td>\n",
       "      <td>1</td>\n",
       "      <td>{'codecov-commenter': 337}</td>\n",
       "      <td>{}</td>\n",
       "      <td>[]</td>\n",
       "      <td>[113e0554aa9410c079ab11f2f8d2409f0a9dfad5]</td>\n",
       "      <td>[pkg/cmd/utils.go]</td>\n",
       "      <td>NaN</td>\n",
       "      <td>NaN</td>\n",
       "    </tr>\n",
       "    <tr>\n",
       "      <th>1</th>\n",
       "      <td>Outputs JSON contents to STDOUT</td>\n",
       "      <td>This PR outputs the results of the generation ...</td>\n",
       "      <td>XS</td>\n",
       "      <td>RobotSail</td>\n",
       "      <td>1667590403</td>\n",
       "      <td>1667590430</td>\n",
       "      <td>RobotSail</td>\n",
       "      <td>1.667590e+09</td>\n",
       "      <td>RobotSail</td>\n",
       "      <td>1</td>\n",
       "      <td>1</td>\n",
       "      <td>{}</td>\n",
       "      <td>{}</td>\n",
       "      <td>[]</td>\n",
       "      <td>[a97997d32d4652d128cec31663d83dd972cb715d]</td>\n",
       "      <td>[pkg/cmd/utils.go]</td>\n",
       "      <td>NaN</td>\n",
       "      <td>NaN</td>\n",
       "    </tr>\n",
       "    <tr>\n",
       "      <th>2</th>\n",
       "      <td>Adds BigModel BLOOM and Eleuther.AI's GPT-J as...</td>\n",
       "      <td>This PR introduces a new interface for `Edit` ...</td>\n",
       "      <td>XL</td>\n",
       "      <td>RobotSail</td>\n",
       "      <td>1663081005</td>\n",
       "      <td>1664395894</td>\n",
       "      <td>djach7</td>\n",
       "      <td>1.664396e+09</td>\n",
       "      <td>djach7</td>\n",
       "      <td>11</td>\n",
       "      <td>25</td>\n",
       "      <td>{'codecov-commenter': 337}</td>\n",
       "      <td>{'1124247655': {'author': 'djach7', 'words_cou...</td>\n",
       "      <td>[]</td>\n",
       "      <td>[5152223b6339170ded40fa6622d48498532fd62a, e18...</td>\n",
       "      <td>[.gitignore, .golangci.yaml, go.mod, go.sum, p...</td>\n",
       "      <td>1.664393e+09</td>\n",
       "      <td>1.664393e+09</td>\n",
       "    </tr>\n",
       "    <tr>\n",
       "      <th>3</th>\n",
       "      <td>Create copilot-ops branding</td>\n",
       "      <td>This PR introduces a simple logo which can ser...</td>\n",
       "      <td>S</td>\n",
       "      <td>RobotSail</td>\n",
       "      <td>1660155398</td>\n",
       "      <td>1661870100</td>\n",
       "      <td>RobotSail</td>\n",
       "      <td>1.661870e+09</td>\n",
       "      <td>RobotSail</td>\n",
       "      <td>7</td>\n",
       "      <td>2</td>\n",
       "      <td>{'djach7': 1, 'codecov-commenter': 288}</td>\n",
       "      <td>{'1068760500': {'author': 'djach7', 'words_cou...</td>\n",
       "      <td>[]</td>\n",
       "      <td>[e191ced920f3d642a3b193bd8724078470d84f8d, 018...</td>\n",
       "      <td>[README.md, public/copilot-ops-logo.png]</td>\n",
       "      <td>1.660157e+09</td>\n",
       "      <td>1.660157e+09</td>\n",
       "    </tr>\n",
       "    <tr>\n",
       "      <th>4</th>\n",
       "      <td>install git in the dockerfile</td>\n",
       "      <td>Signed-off-by: Guy Margalit &lt;guymguym@gmail.com&gt;</td>\n",
       "      <td>XS</td>\n",
       "      <td>guymguym</td>\n",
       "      <td>1659987590</td>\n",
       "      <td>1659987800</td>\n",
       "      <td>guymguym</td>\n",
       "      <td>1.659988e+09</td>\n",
       "      <td>guymguym</td>\n",
       "      <td>1</td>\n",
       "      <td>1</td>\n",
       "      <td>{'codecov-commenter': 241}</td>\n",
       "      <td>{}</td>\n",
       "      <td>[]</td>\n",
       "      <td>[14740dc4b69b7ebcb1914b296e55c240e5e29593]</td>\n",
       "      <td>[Dockerfile]</td>\n",
       "      <td>NaN</td>\n",
       "      <td>NaN</td>\n",
       "    </tr>\n",
       "  </tbody>\n",
       "</table>\n",
       "</div>"
      ],
      "text/plain": [
       "                                               title  \\\n",
       "0    use os.Stdout.WriteString instead of fmt.Printf   \n",
       "1                    Outputs JSON contents to STDOUT   \n",
       "2  Adds BigModel BLOOM and Eleuther.AI's GPT-J as...   \n",
       "3                        Create copilot-ops branding   \n",
       "4                      install git in the dockerfile   \n",
       "\n",
       "                                                body size created_by  \\\n",
       "0  This PR removes usage of `fmt.Printf` so that ...   XS  RobotSail   \n",
       "1  This PR outputs the results of the generation ...   XS  RobotSail   \n",
       "2  This PR introduces a new interface for `Edit` ...   XL  RobotSail   \n",
       "3  This PR introduces a simple logo which can ser...    S  RobotSail   \n",
       "4   Signed-off-by: Guy Margalit <guymguym@gmail.com>   XS   guymguym   \n",
       "\n",
       "   created_at   closed_at  closed_by     merged_at  merged_by  commits_number  \\\n",
       "0  1667591915  1667592021  RobotSail  1.667592e+09  RobotSail               1   \n",
       "1  1667590403  1667590430  RobotSail  1.667590e+09  RobotSail               1   \n",
       "2  1663081005  1664395894     djach7  1.664396e+09     djach7              11   \n",
       "3  1660155398  1661870100  RobotSail  1.661870e+09  RobotSail               7   \n",
       "4  1659987590  1659987800   guymguym  1.659988e+09   guymguym               1   \n",
       "\n",
       "   changed_files_number                             interactions  \\\n",
       "0                     1               {'codecov-commenter': 337}   \n",
       "1                     1                                       {}   \n",
       "2                    25               {'codecov-commenter': 337}   \n",
       "3                     2  {'djach7': 1, 'codecov-commenter': 288}   \n",
       "4                     1               {'codecov-commenter': 241}   \n",
       "\n",
       "                                             reviews labels  \\\n",
       "0                                                 {}     []   \n",
       "1                                                 {}     []   \n",
       "2  {'1124247655': {'author': 'djach7', 'words_cou...     []   \n",
       "3  {'1068760500': {'author': 'djach7', 'words_cou...     []   \n",
       "4                                                 {}     []   \n",
       "\n",
       "                                             commits  \\\n",
       "0         [113e0554aa9410c079ab11f2f8d2409f0a9dfad5]   \n",
       "1         [a97997d32d4652d128cec31663d83dd972cb715d]   \n",
       "2  [5152223b6339170ded40fa6622d48498532fd62a, e18...   \n",
       "3  [e191ced920f3d642a3b193bd8724078470d84f8d, 018...   \n",
       "4         [14740dc4b69b7ebcb1914b296e55c240e5e29593]   \n",
       "\n",
       "                                       changed_files  first_review_at  \\\n",
       "0                                 [pkg/cmd/utils.go]              NaN   \n",
       "1                                 [pkg/cmd/utils.go]              NaN   \n",
       "2  [.gitignore, .golangci.yaml, go.mod, go.sum, p...     1.664393e+09   \n",
       "3           [README.md, public/copilot-ops-logo.png]     1.660157e+09   \n",
       "4                                       [Dockerfile]              NaN   \n",
       "\n",
       "   first_approve_at  \n",
       "0               NaN  \n",
       "1               NaN  \n",
       "2      1.664393e+09  \n",
       "3      1.660157e+09  \n",
       "4               NaN  "
      ]
     },
     "execution_count": 8,
     "metadata": {},
     "output_type": "execute_result"
    }
   ],
   "source": [
    "pr_df.head()"
   ]
  },
  {
   "cell_type": "code",
   "execution_count": 9,
   "id": "13dc895b",
   "metadata": {},
   "outputs": [
    {
     "data": {
      "text/plain": [
       "(64, 18)"
      ]
     },
     "execution_count": 9,
     "metadata": {},
     "output_type": "execute_result"
    }
   ],
   "source": [
    "pr_df.shape"
   ]
  },
  {
   "cell_type": "markdown",
   "id": "c472ffbd",
   "metadata": {},
   "source": [
    "## Feature engineering\n",
    "\n",
    "In the next section we will do some basic feature engineering and correlation analyis on our dataset to see if anything interesting jumps out at us. "
   ]
  },
  {
   "cell_type": "markdown",
   "id": "4ed68d9a",
   "metadata": {},
   "source": [
    "**Time to Merge**\n",
    "\n",
    "We will derive a new feature called `time_to_merge` which will be the difference between the `created_at` and `merged_at` fields. "
   ]
  },
  {
   "cell_type": "code",
   "execution_count": 10,
   "id": "d67035e7",
   "metadata": {},
   "outputs": [],
   "source": [
    "# derive time_to_merege\n",
    "pr_df[\"time_to_merge\"] = pr_df[\"merged_at\"] - pr_df[\"created_at\"]\n",
    "pr_df[\"time_to_merge\"] = pr_df[\"time_to_merge\"].astype(\"float\")\n",
    "# NOTE: we cant fill NA with 0 because that would imply the PR got merged instantaneously"
   ]
  },
  {
   "cell_type": "code",
   "execution_count": 11,
   "id": "fddf9750-49f5-4997-8280-e94e1e778ad9",
   "metadata": {},
   "outputs": [
    {
     "data": {
      "text/plain": [
       "0         106.0\n",
       "1          27.0\n",
       "2     1314889.0\n",
       "3     1714702.0\n",
       "4         210.0\n",
       "        ...    \n",
       "59      23881.0\n",
       "60         19.0\n",
       "61    2909658.0\n",
       "62          NaN\n",
       "63        443.0\n",
       "Name: time_to_merge, Length: 64, dtype: float64"
      ]
     },
     "execution_count": 11,
     "metadata": {},
     "output_type": "execute_result"
    }
   ],
   "source": [
    "pr_df[\"time_to_merge\"]"
   ]
  },
  {
   "cell_type": "markdown",
   "id": "939d196e",
   "metadata": {},
   "source": [
    "Let's look at the distribution of the time to merge column. This can help us determine what the setup for ML problems such as [#236](https://github.com/aicoe-aiops/ocp-ci-analysis/issues/236) could be like. That is, should the time to merge problem be framed as a regression or classification problem.\n",
    "\n",
    "First, lets try to determine what the granularity of the output values should be, in case of a regression setup. That is, should the model predict time to merge in number of seconds, number of hours, number of days, or some other chunk of time."
   ]
  },
  {
   "cell_type": "code",
   "execution_count": 12,
   "id": "b8cc628b",
   "metadata": {
    "tags": []
   },
   "outputs": [
    {
     "data": {
      "text/plain": [
       "1.0     0.827586\n",
       "2.0     0.034483\n",
       "4.0     0.034483\n",
       "16.0    0.017241\n",
       "20.0    0.017241\n",
       "18.0    0.017241\n",
       "6.0     0.017241\n",
       "3.0     0.017241\n",
       "34.0    0.017241\n",
       "Name: time_to_merge, dtype: float64"
      ]
     },
     "execution_count": 12,
     "metadata": {},
     "output_type": "execute_result"
    }
   ],
   "source": [
    "# what does the distribution of values look like if we choose days as the granularity\n",
    "ttm_days = np.ceil(pr_df.time_to_merge / (60 * 60 * 24))\n",
    "\n",
    "# value counts - to how many PRs have value 1, 2, 3, etc. for days to merge\n",
    "vc = ttm_days.value_counts()\n",
    "\n",
    "# normalized value counts (i.e. percent of PRs instead of raw number)\n",
    "nvc = vc / vc.sum()\n",
    "nvc"
   ]
  },
  {
   "cell_type": "code",
   "execution_count": 13,
   "id": "192aeb22",
   "metadata": {
    "tags": []
   },
   "outputs": [
    {
     "data": {
      "text/plain": [
       "1.0      0.775862\n",
       "122.0    0.017241\n",
       "159.0    0.017241\n",
       "137.0    0.017241\n",
       "14.0     0.017241\n",
       "15.0     0.017241\n",
       "31.0     0.017241\n",
       "2.0      0.017241\n",
       "48.0     0.017241\n",
       "21.0     0.017241\n",
       "32.0     0.017241\n",
       "7.0      0.017241\n",
       "3.0      0.017241\n",
       "270.0    0.017241\n",
       "Name: time_to_merge, dtype: float64"
      ]
     },
     "execution_count": 13,
     "metadata": {},
     "output_type": "execute_result"
    }
   ],
   "source": [
    "# what if we chose some intermediate value e.g. 3 hours as the granularity?\n",
    "ttm_3hours = np.ceil(pr_df.time_to_merge / (60 * 60 * 3))\n",
    "\n",
    "# value counts - to how many PRs have value 1, 2, 3, etc. for num. 3-hours to merge\n",
    "vc = ttm_3hours.value_counts()\n",
    "\n",
    "# normalized value counts (i.e. percent of PRs instead of raw number)\n",
    "nvc = vc / vc.sum()\n",
    "nvc"
   ]
  },
  {
   "cell_type": "code",
   "execution_count": 14,
   "id": "44e09f11",
   "metadata": {
    "tags": []
   },
   "outputs": [
    {
     "data": {
      "text/plain": [
       "1.0      0.724138\n",
       "3.0      0.034483\n",
       "366.0    0.017241\n",
       "477.0    0.017241\n",
       "410.0    0.017241\n",
       "40.0     0.017241\n",
       "43.0     0.017241\n",
       "91.0     0.017241\n",
       "2.0      0.017241\n",
       "4.0      0.017241\n",
       "144.0    0.017241\n",
       "63.0     0.017241\n",
       "94.0     0.017241\n",
       "21.0     0.017241\n",
       "7.0      0.017241\n",
       "809.0    0.017241\n",
       "Name: time_to_merge, dtype: float64"
      ]
     },
     "execution_count": 14,
     "metadata": {},
     "output_type": "execute_result"
    }
   ],
   "source": [
    "# what if we chose hours as the granularity?\n",
    "ttm_hours = np.ceil(pr_df.time_to_merge / (60 * 60))\n",
    "\n",
    "# value counts - to how many PRs have value 1, 2, 3, etc. for hours to merge\n",
    "vc = ttm_hours.value_counts()\n",
    "\n",
    "# normalized value counts (i.e. percent of PRs instead of raw number)\n",
    "nvc = vc / vc.sum()\n",
    "nvc"
   ]
  },
  {
   "cell_type": "markdown",
   "id": "fb8e316b",
   "metadata": {},
   "source": [
    "Now, lets try to determine, if we were to set this up as a classification problem, what the output classes should be. In the following cell, we'll try to split the time-to-merge values into 10 equally populated buckets."
   ]
  },
  {
   "cell_type": "code",
   "execution_count": 15,
   "id": "0ca35bc5",
   "metadata": {},
   "outputs": [
    {
     "data": {
      "text/plain": [
       "0.0     0.001111\n",
       "0.1     0.001306\n",
       "0.2     0.001389\n",
       "0.3     0.003222\n",
       "0.4     0.025222\n",
       "0.5     0.051806\n",
       "0.6     0.123333\n",
       "0.7     0.480806\n",
       "0.8     5.204056\n",
       "0.9    91.742806\n",
       "Name: time_to_merge, dtype: float64"
      ]
     },
     "execution_count": 15,
     "metadata": {},
     "output_type": "execute_result"
    }
   ],
   "source": [
    "# lets look at what the 10th, 20th, 30th etc percentiles are, to see what the bin boundaries (in terms of hours)\n",
    "# would be if we were to split the data in 10 equally populated bins\n",
    "n_buckets = 10\n",
    "\n",
    "quantiles = pr_df.time_to_merge.quantile(q=np.arange(0, 1 + 1e-100, 1 / n_buckets))\n",
    "quantiles / 3600"
   ]
  },
  {
   "cell_type": "code",
   "execution_count": 16,
   "id": "7b36d5d4-ec27-4a59-b63f-515830da1ae9",
   "metadata": {},
   "outputs": [],
   "source": [
    "intervals = quantiles"
   ]
  },
  {
   "cell_type": "code",
   "execution_count": 17,
   "id": "acc2bfd4",
   "metadata": {},
   "outputs": [
    {
     "data": {
      "text/plain": [
       "0.0          NaN\n",
       "0.1     0.000194\n",
       "0.2     0.000083\n",
       "0.3     0.001833\n",
       "0.4     0.022000\n",
       "0.5     0.026583\n",
       "0.6     0.071528\n",
       "0.7     0.357472\n",
       "0.8     4.723250\n",
       "0.9    86.538750\n",
       "Name: time_to_merge, dtype: float64"
      ]
     },
     "execution_count": 17,
     "metadata": {},
     "output_type": "execute_result"
    }
   ],
   "source": [
    "# gaps between the buckets (i.e. size of each bucket) in hours\n",
    "(quantiles - quantiles.shift()) / 3600"
   ]
  },
  {
   "cell_type": "markdown",
   "id": "7111b3d8",
   "metadata": {},
   "source": [
    "If we want to frame our ML problem as a classification problem, we can use the above buckets to define the classes."
   ]
  },
  {
   "cell_type": "markdown",
   "id": "21dc2dcf",
   "metadata": {},
   "source": [
    "**Body**\n",
    "\n",
    "Here, we will derive a feature called `body_size` which will simply be the number of words in the body of the PR. We can use this numerical value to describe the body of the PR."
   ]
  },
  {
   "cell_type": "code",
   "execution_count": 18,
   "id": "212f8a44",
   "metadata": {},
   "outputs": [],
   "source": [
    "# derive body_size\n",
    "pr_df[\"body_size\"] = pr_df[\"body\"].fillna(\"\").apply(lambda x: len(x.split()))"
   ]
  },
  {
   "cell_type": "code",
   "execution_count": 19,
   "id": "c62d9484",
   "metadata": {},
   "outputs": [
    {
     "data": {
      "text/plain": [
       "0     17\n",
       "1     17\n",
       "2     84\n",
       "3     17\n",
       "4      4\n",
       "      ..\n",
       "59     4\n",
       "60     0\n",
       "61     1\n",
       "62    22\n",
       "63     4\n",
       "Name: body_size, Length: 64, dtype: int64"
      ]
     },
     "execution_count": 19,
     "metadata": {},
     "output_type": "execute_result"
    }
   ],
   "source": [
    "pr_df[\"body_size\"]"
   ]
  },
  {
   "cell_type": "markdown",
   "id": "9916fd09",
   "metadata": {},
   "source": [
    "**Size**\n",
    "\n",
    "We can attempt to convert the categorical size label generated by GitHub, which summarizes the size of the changes made to the code base, to a numerical value. "
   ]
  },
  {
   "cell_type": "code",
   "execution_count": 20,
   "id": "cbc553ee-3e0b-45ed-83f6-02ae860bef85",
   "metadata": {},
   "outputs": [
    {
     "data": {
      "text/plain": [
       "{'L', 'M', 'S', 'XL', 'XS', 'XXL'}"
      ]
     },
     "execution_count": 20,
     "metadata": {},
     "output_type": "execute_result"
    }
   ],
   "source": [
    "set(pr_df['size'])"
   ]
  },
  {
   "cell_type": "code",
   "execution_count": 21,
   "id": "709b4cf9",
   "metadata": {},
   "outputs": [],
   "source": [
    "convert_size = {\"size\": {\"NaN\": 0, \"XS\": 0, \"S\": 1, \"M\": 2, \"L\": 3, \"XL\": 4, \"XXL\": 5}}\n",
    "pr_df = pr_df.replace(convert_size)"
   ]
  },
  {
   "cell_type": "markdown",
   "id": "0b803d48",
   "metadata": {},
   "source": [
    "**Title**\n",
    "\n",
    "Lets try to see if the PR title text can be used to extract any useful information regarding the PR."
   ]
  },
  {
   "cell_type": "code",
   "execution_count": 22,
   "id": "020f050a",
   "metadata": {},
   "outputs": [
    {
     "data": {
      "text/plain": [
       "0       use os stdout writestring instead of fmt printf\n",
       "1                       outputs json contents to stdout\n",
       "2     adds bigmodel bloom and eleuther ai s gpt j as...\n",
       "3                           create copilot ops branding\n",
       "4                         install git in the dockerfile\n",
       "                            ...                        \n",
       "59                      create implementation skeleton \n",
       "60                   add try catch when inserting files\n",
       "61                   create javascript jupyter notebook\n",
       "62                             adds typescript operator\n",
       "63       create sandbox directory for working with data\n",
       "Name: title, Length: 64, dtype: object"
      ]
     },
     "execution_count": 22,
     "metadata": {},
     "output_type": "execute_result"
    }
   ],
   "source": [
    "# first lets preprocess the text available in the titles\n",
    "\n",
    "# convert to lowercase\n",
    "preproc_titles = pr_df[\"title\"].str.lower()\n",
    "\n",
    "# remove punctuations and symbols like : ; , # ( ) [ ] etc\n",
    "preproc_titles = preproc_titles.str.replace(r'[`#-.?!,:;\\/()\\[\\]\"\\']', \" \", regex=True)\n",
    "\n",
    "# remove hash-like strings i.e. 25+ char long strings containing 0-9 or a-f\n",
    "preproc_titles = preproc_titles.str.replace(r\"[0-9a-f]{25,}\", \" \", regex=True)\n",
    "\n",
    "preproc_titles"
   ]
  },
  {
   "cell_type": "code",
   "execution_count": 23,
   "id": "2ecc397e",
   "metadata": {},
   "outputs": [],
   "source": [
    "# what are the most commonly appearing words in the titles\n",
    "\n",
    "# combin all titles and split into words\n",
    "words = preproc_titles.str.cat(sep=\" \").split()\n",
    "\n",
    "# remove stopwords and numbers (e.g. bugzilla ids)\n",
    "words = [w for w in words if w not in set(STOPWORDS) and not w.isnumeric()]\n",
    "\n",
    "# word frequencies\n",
    "unique_words, counts = np.unique(words, return_counts=True)\n",
    "vc = pd.Series(counts, index=unique_words).sort_values(ascending=False)"
   ]
  },
  {
   "cell_type": "markdown",
   "id": "c52f211c",
   "metadata": {},
   "source": [
    "From the above graph, we can see that titles often contain some keywords that can hint towards the type of changes being made in the PR. We will create a feature which is a vector indicating how many times each word appeared in the title. This way, even if a less prominent word is more correlated with time_to_merge, we will be able to capture that relationship."
   ]
  },
  {
   "cell_type": "code",
   "execution_count": 24,
   "id": "65279268",
   "metadata": {},
   "outputs": [
    {
     "name": "stderr",
     "output_type": "stream",
     "text": [
      " 36%|███▋      | 62/171 [00:00<00:00, 617.78it/s]/tmp/ipykernel_2239/4191214648.py:3: PerformanceWarning: DataFrame is highly fragmented.  This is usually the result of calling `frame.insert` many times, which has poor performance.  Consider joining all columns at once using pd.concat(axis=1) instead. To get a de-fragmented frame, use `newframe = frame.copy()`\n",
      "  pr_df[f\"title_wordcount_{word}\"] = preproc_titles.apply(\n",
      "/tmp/ipykernel_2239/4191214648.py:3: PerformanceWarning: DataFrame is highly fragmented.  This is usually the result of calling `frame.insert` many times, which has poor performance.  Consider joining all columns at once using pd.concat(axis=1) instead. To get a de-fragmented frame, use `newframe = frame.copy()`\n",
      "  pr_df[f\"title_wordcount_{word}\"] = preproc_titles.apply(\n",
      "/tmp/ipykernel_2239/4191214648.py:3: PerformanceWarning: DataFrame is highly fragmented.  This is usually the result of calling `frame.insert` many times, which has poor performance.  Consider joining all columns at once using pd.concat(axis=1) instead. To get a de-fragmented frame, use `newframe = frame.copy()`\n",
      "  pr_df[f\"title_wordcount_{word}\"] = preproc_titles.apply(\n",
      "/tmp/ipykernel_2239/4191214648.py:3: PerformanceWarning: DataFrame is highly fragmented.  This is usually the result of calling `frame.insert` many times, which has poor performance.  Consider joining all columns at once using pd.concat(axis=1) instead. To get a de-fragmented frame, use `newframe = frame.copy()`\n",
      "  pr_df[f\"title_wordcount_{word}\"] = preproc_titles.apply(\n",
      "/tmp/ipykernel_2239/4191214648.py:3: PerformanceWarning: DataFrame is highly fragmented.  This is usually the result of calling `frame.insert` many times, which has poor performance.  Consider joining all columns at once using pd.concat(axis=1) instead. To get a de-fragmented frame, use `newframe = frame.copy()`\n",
      "  pr_df[f\"title_wordcount_{word}\"] = preproc_titles.apply(\n",
      "/tmp/ipykernel_2239/4191214648.py:3: PerformanceWarning: DataFrame is highly fragmented.  This is usually the result of calling `frame.insert` many times, which has poor performance.  Consider joining all columns at once using pd.concat(axis=1) instead. To get a de-fragmented frame, use `newframe = frame.copy()`\n",
      "  pr_df[f\"title_wordcount_{word}\"] = preproc_titles.apply(\n",
      "/tmp/ipykernel_2239/4191214648.py:3: PerformanceWarning: DataFrame is highly fragmented.  This is usually the result of calling `frame.insert` many times, which has poor performance.  Consider joining all columns at once using pd.concat(axis=1) instead. To get a de-fragmented frame, use `newframe = frame.copy()`\n",
      "  pr_df[f\"title_wordcount_{word}\"] = preproc_titles.apply(\n",
      "/tmp/ipykernel_2239/4191214648.py:3: PerformanceWarning: DataFrame is highly fragmented.  This is usually the result of calling `frame.insert` many times, which has poor performance.  Consider joining all columns at once using pd.concat(axis=1) instead. To get a de-fragmented frame, use `newframe = frame.copy()`\n",
      "  pr_df[f\"title_wordcount_{word}\"] = preproc_titles.apply(\n",
      "/tmp/ipykernel_2239/4191214648.py:3: PerformanceWarning: DataFrame is highly fragmented.  This is usually the result of calling `frame.insert` many times, which has poor performance.  Consider joining all columns at once using pd.concat(axis=1) instead. To get a de-fragmented frame, use `newframe = frame.copy()`\n",
      "  pr_df[f\"title_wordcount_{word}\"] = preproc_titles.apply(\n",
      "/tmp/ipykernel_2239/4191214648.py:3: PerformanceWarning: DataFrame is highly fragmented.  This is usually the result of calling `frame.insert` many times, which has poor performance.  Consider joining all columns at once using pd.concat(axis=1) instead. To get a de-fragmented frame, use `newframe = frame.copy()`\n",
      "  pr_df[f\"title_wordcount_{word}\"] = preproc_titles.apply(\n",
      "/tmp/ipykernel_2239/4191214648.py:3: PerformanceWarning: DataFrame is highly fragmented.  This is usually the result of calling `frame.insert` many times, which has poor performance.  Consider joining all columns at once using pd.concat(axis=1) instead. To get a de-fragmented frame, use `newframe = frame.copy()`\n",
      "  pr_df[f\"title_wordcount_{word}\"] = preproc_titles.apply(\n",
      "/tmp/ipykernel_2239/4191214648.py:3: PerformanceWarning: DataFrame is highly fragmented.  This is usually the result of calling `frame.insert` many times, which has poor performance.  Consider joining all columns at once using pd.concat(axis=1) instead. To get a de-fragmented frame, use `newframe = frame.copy()`\n",
      "  pr_df[f\"title_wordcount_{word}\"] = preproc_titles.apply(\n",
      "/tmp/ipykernel_2239/4191214648.py:3: PerformanceWarning: DataFrame is highly fragmented.  This is usually the result of calling `frame.insert` many times, which has poor performance.  Consider joining all columns at once using pd.concat(axis=1) instead. To get a de-fragmented frame, use `newframe = frame.copy()`\n",
      "  pr_df[f\"title_wordcount_{word}\"] = preproc_titles.apply(\n",
      "/tmp/ipykernel_2239/4191214648.py:3: PerformanceWarning: DataFrame is highly fragmented.  This is usually the result of calling `frame.insert` many times, which has poor performance.  Consider joining all columns at once using pd.concat(axis=1) instead. To get a de-fragmented frame, use `newframe = frame.copy()`\n",
      "  pr_df[f\"title_wordcount_{word}\"] = preproc_titles.apply(\n",
      "/tmp/ipykernel_2239/4191214648.py:3: PerformanceWarning: DataFrame is highly fragmented.  This is usually the result of calling `frame.insert` many times, which has poor performance.  Consider joining all columns at once using pd.concat(axis=1) instead. To get a de-fragmented frame, use `newframe = frame.copy()`\n",
      "  pr_df[f\"title_wordcount_{word}\"] = preproc_titles.apply(\n",
      "/tmp/ipykernel_2239/4191214648.py:3: PerformanceWarning: DataFrame is highly fragmented.  This is usually the result of calling `frame.insert` many times, which has poor performance.  Consider joining all columns at once using pd.concat(axis=1) instead. To get a de-fragmented frame, use `newframe = frame.copy()`\n",
      "  pr_df[f\"title_wordcount_{word}\"] = preproc_titles.apply(\n",
      "/tmp/ipykernel_2239/4191214648.py:3: PerformanceWarning: DataFrame is highly fragmented.  This is usually the result of calling `frame.insert` many times, which has poor performance.  Consider joining all columns at once using pd.concat(axis=1) instead. To get a de-fragmented frame, use `newframe = frame.copy()`\n",
      "  pr_df[f\"title_wordcount_{word}\"] = preproc_titles.apply(\n",
      "/tmp/ipykernel_2239/4191214648.py:3: PerformanceWarning: DataFrame is highly fragmented.  This is usually the result of calling `frame.insert` many times, which has poor performance.  Consider joining all columns at once using pd.concat(axis=1) instead. To get a de-fragmented frame, use `newframe = frame.copy()`\n",
      "  pr_df[f\"title_wordcount_{word}\"] = preproc_titles.apply(\n",
      "/tmp/ipykernel_2239/4191214648.py:3: PerformanceWarning: DataFrame is highly fragmented.  This is usually the result of calling `frame.insert` many times, which has poor performance.  Consider joining all columns at once using pd.concat(axis=1) instead. To get a de-fragmented frame, use `newframe = frame.copy()`\n",
      "  pr_df[f\"title_wordcount_{word}\"] = preproc_titles.apply(\n",
      "/tmp/ipykernel_2239/4191214648.py:3: PerformanceWarning: DataFrame is highly fragmented.  This is usually the result of calling `frame.insert` many times, which has poor performance.  Consider joining all columns at once using pd.concat(axis=1) instead. To get a de-fragmented frame, use `newframe = frame.copy()`\n",
      "  pr_df[f\"title_wordcount_{word}\"] = preproc_titles.apply(\n",
      "/tmp/ipykernel_2239/4191214648.py:3: PerformanceWarning: DataFrame is highly fragmented.  This is usually the result of calling `frame.insert` many times, which has poor performance.  Consider joining all columns at once using pd.concat(axis=1) instead. To get a de-fragmented frame, use `newframe = frame.copy()`\n",
      "  pr_df[f\"title_wordcount_{word}\"] = preproc_titles.apply(\n",
      "/tmp/ipykernel_2239/4191214648.py:3: PerformanceWarning: DataFrame is highly fragmented.  This is usually the result of calling `frame.insert` many times, which has poor performance.  Consider joining all columns at once using pd.concat(axis=1) instead. To get a de-fragmented frame, use `newframe = frame.copy()`\n",
      "  pr_df[f\"title_wordcount_{word}\"] = preproc_titles.apply(\n",
      "/tmp/ipykernel_2239/4191214648.py:3: PerformanceWarning: DataFrame is highly fragmented.  This is usually the result of calling `frame.insert` many times, which has poor performance.  Consider joining all columns at once using pd.concat(axis=1) instead. To get a de-fragmented frame, use `newframe = frame.copy()`\n",
      "  pr_df[f\"title_wordcount_{word}\"] = preproc_titles.apply(\n",
      "/tmp/ipykernel_2239/4191214648.py:3: PerformanceWarning: DataFrame is highly fragmented.  This is usually the result of calling `frame.insert` many times, which has poor performance.  Consider joining all columns at once using pd.concat(axis=1) instead. To get a de-fragmented frame, use `newframe = frame.copy()`\n",
      "  pr_df[f\"title_wordcount_{word}\"] = preproc_titles.apply(\n",
      "/tmp/ipykernel_2239/4191214648.py:3: PerformanceWarning: DataFrame is highly fragmented.  This is usually the result of calling `frame.insert` many times, which has poor performance.  Consider joining all columns at once using pd.concat(axis=1) instead. To get a de-fragmented frame, use `newframe = frame.copy()`\n",
      "  pr_df[f\"title_wordcount_{word}\"] = preproc_titles.apply(\n",
      "/tmp/ipykernel_2239/4191214648.py:3: PerformanceWarning: DataFrame is highly fragmented.  This is usually the result of calling `frame.insert` many times, which has poor performance.  Consider joining all columns at once using pd.concat(axis=1) instead. To get a de-fragmented frame, use `newframe = frame.copy()`\n",
      "  pr_df[f\"title_wordcount_{word}\"] = preproc_titles.apply(\n",
      "/tmp/ipykernel_2239/4191214648.py:3: PerformanceWarning: DataFrame is highly fragmented.  This is usually the result of calling `frame.insert` many times, which has poor performance.  Consider joining all columns at once using pd.concat(axis=1) instead. To get a de-fragmented frame, use `newframe = frame.copy()`\n",
      "  pr_df[f\"title_wordcount_{word}\"] = preproc_titles.apply(\n",
      "/tmp/ipykernel_2239/4191214648.py:3: PerformanceWarning: DataFrame is highly fragmented.  This is usually the result of calling `frame.insert` many times, which has poor performance.  Consider joining all columns at once using pd.concat(axis=1) instead. To get a de-fragmented frame, use `newframe = frame.copy()`\n",
      "  pr_df[f\"title_wordcount_{word}\"] = preproc_titles.apply(\n",
      " 73%|███████▎  | 124/171 [00:01<00:00, 88.54it/s]/tmp/ipykernel_2239/4191214648.py:3: PerformanceWarning: DataFrame is highly fragmented.  This is usually the result of calling `frame.insert` many times, which has poor performance.  Consider joining all columns at once using pd.concat(axis=1) instead. To get a de-fragmented frame, use `newframe = frame.copy()`\n",
      "  pr_df[f\"title_wordcount_{word}\"] = preproc_titles.apply(\n",
      "/tmp/ipykernel_2239/4191214648.py:3: PerformanceWarning: DataFrame is highly fragmented.  This is usually the result of calling `frame.insert` many times, which has poor performance.  Consider joining all columns at once using pd.concat(axis=1) instead. To get a de-fragmented frame, use `newframe = frame.copy()`\n",
      "  pr_df[f\"title_wordcount_{word}\"] = preproc_titles.apply(\n",
      "/tmp/ipykernel_2239/4191214648.py:3: PerformanceWarning: DataFrame is highly fragmented.  This is usually the result of calling `frame.insert` many times, which has poor performance.  Consider joining all columns at once using pd.concat(axis=1) instead. To get a de-fragmented frame, use `newframe = frame.copy()`\n",
      "  pr_df[f\"title_wordcount_{word}\"] = preproc_titles.apply(\n",
      "/tmp/ipykernel_2239/4191214648.py:3: PerformanceWarning: DataFrame is highly fragmented.  This is usually the result of calling `frame.insert` many times, which has poor performance.  Consider joining all columns at once using pd.concat(axis=1) instead. To get a de-fragmented frame, use `newframe = frame.copy()`\n",
      "  pr_df[f\"title_wordcount_{word}\"] = preproc_titles.apply(\n",
      "/tmp/ipykernel_2239/4191214648.py:3: PerformanceWarning: DataFrame is highly fragmented.  This is usually the result of calling `frame.insert` many times, which has poor performance.  Consider joining all columns at once using pd.concat(axis=1) instead. To get a de-fragmented frame, use `newframe = frame.copy()`\n",
      "  pr_df[f\"title_wordcount_{word}\"] = preproc_titles.apply(\n",
      "/tmp/ipykernel_2239/4191214648.py:3: PerformanceWarning: DataFrame is highly fragmented.  This is usually the result of calling `frame.insert` many times, which has poor performance.  Consider joining all columns at once using pd.concat(axis=1) instead. To get a de-fragmented frame, use `newframe = frame.copy()`\n",
      "  pr_df[f\"title_wordcount_{word}\"] = preproc_titles.apply(\n",
      "/tmp/ipykernel_2239/4191214648.py:3: PerformanceWarning: DataFrame is highly fragmented.  This is usually the result of calling `frame.insert` many times, which has poor performance.  Consider joining all columns at once using pd.concat(axis=1) instead. To get a de-fragmented frame, use `newframe = frame.copy()`\n",
      "  pr_df[f\"title_wordcount_{word}\"] = preproc_titles.apply(\n",
      "/tmp/ipykernel_2239/4191214648.py:3: PerformanceWarning: DataFrame is highly fragmented.  This is usually the result of calling `frame.insert` many times, which has poor performance.  Consider joining all columns at once using pd.concat(axis=1) instead. To get a de-fragmented frame, use `newframe = frame.copy()`\n",
      "  pr_df[f\"title_wordcount_{word}\"] = preproc_titles.apply(\n",
      "/tmp/ipykernel_2239/4191214648.py:3: PerformanceWarning: DataFrame is highly fragmented.  This is usually the result of calling `frame.insert` many times, which has poor performance.  Consider joining all columns at once using pd.concat(axis=1) instead. To get a de-fragmented frame, use `newframe = frame.copy()`\n",
      "  pr_df[f\"title_wordcount_{word}\"] = preproc_titles.apply(\n",
      "/tmp/ipykernel_2239/4191214648.py:3: PerformanceWarning: DataFrame is highly fragmented.  This is usually the result of calling `frame.insert` many times, which has poor performance.  Consider joining all columns at once using pd.concat(axis=1) instead. To get a de-fragmented frame, use `newframe = frame.copy()`\n",
      "  pr_df[f\"title_wordcount_{word}\"] = preproc_titles.apply(\n",
      "/tmp/ipykernel_2239/4191214648.py:3: PerformanceWarning: DataFrame is highly fragmented.  This is usually the result of calling `frame.insert` many times, which has poor performance.  Consider joining all columns at once using pd.concat(axis=1) instead. To get a de-fragmented frame, use `newframe = frame.copy()`\n",
      "  pr_df[f\"title_wordcount_{word}\"] = preproc_titles.apply(\n",
      "/tmp/ipykernel_2239/4191214648.py:3: PerformanceWarning: DataFrame is highly fragmented.  This is usually the result of calling `frame.insert` many times, which has poor performance.  Consider joining all columns at once using pd.concat(axis=1) instead. To get a de-fragmented frame, use `newframe = frame.copy()`\n",
      "  pr_df[f\"title_wordcount_{word}\"] = preproc_titles.apply(\n",
      "/tmp/ipykernel_2239/4191214648.py:3: PerformanceWarning: DataFrame is highly fragmented.  This is usually the result of calling `frame.insert` many times, which has poor performance.  Consider joining all columns at once using pd.concat(axis=1) instead. To get a de-fragmented frame, use `newframe = frame.copy()`\n",
      "  pr_df[f\"title_wordcount_{word}\"] = preproc_titles.apply(\n",
      "/tmp/ipykernel_2239/4191214648.py:3: PerformanceWarning: DataFrame is highly fragmented.  This is usually the result of calling `frame.insert` many times, which has poor performance.  Consider joining all columns at once using pd.concat(axis=1) instead. To get a de-fragmented frame, use `newframe = frame.copy()`\n",
      "  pr_df[f\"title_wordcount_{word}\"] = preproc_titles.apply(\n",
      "/tmp/ipykernel_2239/4191214648.py:3: PerformanceWarning: DataFrame is highly fragmented.  This is usually the result of calling `frame.insert` many times, which has poor performance.  Consider joining all columns at once using pd.concat(axis=1) instead. To get a de-fragmented frame, use `newframe = frame.copy()`\n",
      "  pr_df[f\"title_wordcount_{word}\"] = preproc_titles.apply(\n",
      "/tmp/ipykernel_2239/4191214648.py:3: PerformanceWarning: DataFrame is highly fragmented.  This is usually the result of calling `frame.insert` many times, which has poor performance.  Consider joining all columns at once using pd.concat(axis=1) instead. To get a de-fragmented frame, use `newframe = frame.copy()`\n",
      "  pr_df[f\"title_wordcount_{word}\"] = preproc_titles.apply(\n",
      "/tmp/ipykernel_2239/4191214648.py:3: PerformanceWarning: DataFrame is highly fragmented.  This is usually the result of calling `frame.insert` many times, which has poor performance.  Consider joining all columns at once using pd.concat(axis=1) instead. To get a de-fragmented frame, use `newframe = frame.copy()`\n",
      "  pr_df[f\"title_wordcount_{word}\"] = preproc_titles.apply(\n",
      "/tmp/ipykernel_2239/4191214648.py:3: PerformanceWarning: DataFrame is highly fragmented.  This is usually the result of calling `frame.insert` many times, which has poor performance.  Consider joining all columns at once using pd.concat(axis=1) instead. To get a de-fragmented frame, use `newframe = frame.copy()`\n",
      "  pr_df[f\"title_wordcount_{word}\"] = preproc_titles.apply(\n",
      "/tmp/ipykernel_2239/4191214648.py:3: PerformanceWarning: DataFrame is highly fragmented.  This is usually the result of calling `frame.insert` many times, which has poor performance.  Consider joining all columns at once using pd.concat(axis=1) instead. To get a de-fragmented frame, use `newframe = frame.copy()`\n",
      "  pr_df[f\"title_wordcount_{word}\"] = preproc_titles.apply(\n",
      "/tmp/ipykernel_2239/4191214648.py:3: PerformanceWarning: DataFrame is highly fragmented.  This is usually the result of calling `frame.insert` many times, which has poor performance.  Consider joining all columns at once using pd.concat(axis=1) instead. To get a de-fragmented frame, use `newframe = frame.copy()`\n",
      "  pr_df[f\"title_wordcount_{word}\"] = preproc_titles.apply(\n",
      "/tmp/ipykernel_2239/4191214648.py:3: PerformanceWarning: DataFrame is highly fragmented.  This is usually the result of calling `frame.insert` many times, which has poor performance.  Consider joining all columns at once using pd.concat(axis=1) instead. To get a de-fragmented frame, use `newframe = frame.copy()`\n",
      "  pr_df[f\"title_wordcount_{word}\"] = preproc_titles.apply(\n",
      "/tmp/ipykernel_2239/4191214648.py:3: PerformanceWarning: DataFrame is highly fragmented.  This is usually the result of calling `frame.insert` many times, which has poor performance.  Consider joining all columns at once using pd.concat(axis=1) instead. To get a de-fragmented frame, use `newframe = frame.copy()`\n",
      "  pr_df[f\"title_wordcount_{word}\"] = preproc_titles.apply(\n",
      "/tmp/ipykernel_2239/4191214648.py:3: PerformanceWarning: DataFrame is highly fragmented.  This is usually the result of calling `frame.insert` many times, which has poor performance.  Consider joining all columns at once using pd.concat(axis=1) instead. To get a de-fragmented frame, use `newframe = frame.copy()`\n",
      "  pr_df[f\"title_wordcount_{word}\"] = preproc_titles.apply(\n",
      "/tmp/ipykernel_2239/4191214648.py:3: PerformanceWarning: DataFrame is highly fragmented.  This is usually the result of calling `frame.insert` many times, which has poor performance.  Consider joining all columns at once using pd.concat(axis=1) instead. To get a de-fragmented frame, use `newframe = frame.copy()`\n",
      "  pr_df[f\"title_wordcount_{word}\"] = preproc_titles.apply(\n",
      "/tmp/ipykernel_2239/4191214648.py:3: PerformanceWarning: DataFrame is highly fragmented.  This is usually the result of calling `frame.insert` many times, which has poor performance.  Consider joining all columns at once using pd.concat(axis=1) instead. To get a de-fragmented frame, use `newframe = frame.copy()`\n",
      "  pr_df[f\"title_wordcount_{word}\"] = preproc_titles.apply(\n",
      "/tmp/ipykernel_2239/4191214648.py:3: PerformanceWarning: DataFrame is highly fragmented.  This is usually the result of calling `frame.insert` many times, which has poor performance.  Consider joining all columns at once using pd.concat(axis=1) instead. To get a de-fragmented frame, use `newframe = frame.copy()`\n",
      "  pr_df[f\"title_wordcount_{word}\"] = preproc_titles.apply(\n",
      "/tmp/ipykernel_2239/4191214648.py:3: PerformanceWarning: DataFrame is highly fragmented.  This is usually the result of calling `frame.insert` many times, which has poor performance.  Consider joining all columns at once using pd.concat(axis=1) instead. To get a de-fragmented frame, use `newframe = frame.copy()`\n",
      "  pr_df[f\"title_wordcount_{word}\"] = preproc_titles.apply(\n",
      "/tmp/ipykernel_2239/4191214648.py:3: PerformanceWarning: DataFrame is highly fragmented.  This is usually the result of calling `frame.insert` many times, which has poor performance.  Consider joining all columns at once using pd.concat(axis=1) instead. To get a de-fragmented frame, use `newframe = frame.copy()`\n",
      "  pr_df[f\"title_wordcount_{word}\"] = preproc_titles.apply(\n",
      "/tmp/ipykernel_2239/4191214648.py:3: PerformanceWarning: DataFrame is highly fragmented.  This is usually the result of calling `frame.insert` many times, which has poor performance.  Consider joining all columns at once using pd.concat(axis=1) instead. To get a de-fragmented frame, use `newframe = frame.copy()`\n",
      "  pr_df[f\"title_wordcount_{word}\"] = preproc_titles.apply(\n",
      " 89%|████████▉ | 153/171 [00:01<00:00, 94.61it/s]/tmp/ipykernel_2239/4191214648.py:3: PerformanceWarning: DataFrame is highly fragmented.  This is usually the result of calling `frame.insert` many times, which has poor performance.  Consider joining all columns at once using pd.concat(axis=1) instead. To get a de-fragmented frame, use `newframe = frame.copy()`\n",
      "  pr_df[f\"title_wordcount_{word}\"] = preproc_titles.apply(\n",
      "/tmp/ipykernel_2239/4191214648.py:3: PerformanceWarning: DataFrame is highly fragmented.  This is usually the result of calling `frame.insert` many times, which has poor performance.  Consider joining all columns at once using pd.concat(axis=1) instead. To get a de-fragmented frame, use `newframe = frame.copy()`\n",
      "  pr_df[f\"title_wordcount_{word}\"] = preproc_titles.apply(\n",
      "/tmp/ipykernel_2239/4191214648.py:3: PerformanceWarning: DataFrame is highly fragmented.  This is usually the result of calling `frame.insert` many times, which has poor performance.  Consider joining all columns at once using pd.concat(axis=1) instead. To get a de-fragmented frame, use `newframe = frame.copy()`\n",
      "  pr_df[f\"title_wordcount_{word}\"] = preproc_titles.apply(\n",
      "/tmp/ipykernel_2239/4191214648.py:3: PerformanceWarning: DataFrame is highly fragmented.  This is usually the result of calling `frame.insert` many times, which has poor performance.  Consider joining all columns at once using pd.concat(axis=1) instead. To get a de-fragmented frame, use `newframe = frame.copy()`\n",
      "  pr_df[f\"title_wordcount_{word}\"] = preproc_titles.apply(\n",
      "/tmp/ipykernel_2239/4191214648.py:3: PerformanceWarning: DataFrame is highly fragmented.  This is usually the result of calling `frame.insert` many times, which has poor performance.  Consider joining all columns at once using pd.concat(axis=1) instead. To get a de-fragmented frame, use `newframe = frame.copy()`\n",
      "  pr_df[f\"title_wordcount_{word}\"] = preproc_titles.apply(\n",
      "/tmp/ipykernel_2239/4191214648.py:3: PerformanceWarning: DataFrame is highly fragmented.  This is usually the result of calling `frame.insert` many times, which has poor performance.  Consider joining all columns at once using pd.concat(axis=1) instead. To get a de-fragmented frame, use `newframe = frame.copy()`\n",
      "  pr_df[f\"title_wordcount_{word}\"] = preproc_titles.apply(\n",
      "/tmp/ipykernel_2239/4191214648.py:3: PerformanceWarning: DataFrame is highly fragmented.  This is usually the result of calling `frame.insert` many times, which has poor performance.  Consider joining all columns at once using pd.concat(axis=1) instead. To get a de-fragmented frame, use `newframe = frame.copy()`\n",
      "  pr_df[f\"title_wordcount_{word}\"] = preproc_titles.apply(\n",
      "/tmp/ipykernel_2239/4191214648.py:3: PerformanceWarning: DataFrame is highly fragmented.  This is usually the result of calling `frame.insert` many times, which has poor performance.  Consider joining all columns at once using pd.concat(axis=1) instead. To get a de-fragmented frame, use `newframe = frame.copy()`\n",
      "  pr_df[f\"title_wordcount_{word}\"] = preproc_titles.apply(\n",
      "/tmp/ipykernel_2239/4191214648.py:3: PerformanceWarning: DataFrame is highly fragmented.  This is usually the result of calling `frame.insert` many times, which has poor performance.  Consider joining all columns at once using pd.concat(axis=1) instead. To get a de-fragmented frame, use `newframe = frame.copy()`\n",
      "  pr_df[f\"title_wordcount_{word}\"] = preproc_titles.apply(\n",
      "/tmp/ipykernel_2239/4191214648.py:3: PerformanceWarning: DataFrame is highly fragmented.  This is usually the result of calling `frame.insert` many times, which has poor performance.  Consider joining all columns at once using pd.concat(axis=1) instead. To get a de-fragmented frame, use `newframe = frame.copy()`\n",
      "  pr_df[f\"title_wordcount_{word}\"] = preproc_titles.apply(\n",
      "/tmp/ipykernel_2239/4191214648.py:3: PerformanceWarning: DataFrame is highly fragmented.  This is usually the result of calling `frame.insert` many times, which has poor performance.  Consider joining all columns at once using pd.concat(axis=1) instead. To get a de-fragmented frame, use `newframe = frame.copy()`\n",
      "  pr_df[f\"title_wordcount_{word}\"] = preproc_titles.apply(\n",
      "/tmp/ipykernel_2239/4191214648.py:3: PerformanceWarning: DataFrame is highly fragmented.  This is usually the result of calling `frame.insert` many times, which has poor performance.  Consider joining all columns at once using pd.concat(axis=1) instead. To get a de-fragmented frame, use `newframe = frame.copy()`\n",
      "  pr_df[f\"title_wordcount_{word}\"] = preproc_titles.apply(\n",
      "/tmp/ipykernel_2239/4191214648.py:3: PerformanceWarning: DataFrame is highly fragmented.  This is usually the result of calling `frame.insert` many times, which has poor performance.  Consider joining all columns at once using pd.concat(axis=1) instead. To get a de-fragmented frame, use `newframe = frame.copy()`\n",
      "  pr_df[f\"title_wordcount_{word}\"] = preproc_titles.apply(\n",
      "/tmp/ipykernel_2239/4191214648.py:3: PerformanceWarning: DataFrame is highly fragmented.  This is usually the result of calling `frame.insert` many times, which has poor performance.  Consider joining all columns at once using pd.concat(axis=1) instead. To get a de-fragmented frame, use `newframe = frame.copy()`\n",
      "  pr_df[f\"title_wordcount_{word}\"] = preproc_titles.apply(\n",
      "/tmp/ipykernel_2239/4191214648.py:3: PerformanceWarning: DataFrame is highly fragmented.  This is usually the result of calling `frame.insert` many times, which has poor performance.  Consider joining all columns at once using pd.concat(axis=1) instead. To get a de-fragmented frame, use `newframe = frame.copy()`\n",
      "  pr_df[f\"title_wordcount_{word}\"] = preproc_titles.apply(\n",
      "/tmp/ipykernel_2239/4191214648.py:3: PerformanceWarning: DataFrame is highly fragmented.  This is usually the result of calling `frame.insert` many times, which has poor performance.  Consider joining all columns at once using pd.concat(axis=1) instead. To get a de-fragmented frame, use `newframe = frame.copy()`\n",
      "  pr_df[f\"title_wordcount_{word}\"] = preproc_titles.apply(\n",
      "/tmp/ipykernel_2239/4191214648.py:3: PerformanceWarning: DataFrame is highly fragmented.  This is usually the result of calling `frame.insert` many times, which has poor performance.  Consider joining all columns at once using pd.concat(axis=1) instead. To get a de-fragmented frame, use `newframe = frame.copy()`\n",
      "  pr_df[f\"title_wordcount_{word}\"] = preproc_titles.apply(\n",
      "/tmp/ipykernel_2239/4191214648.py:3: PerformanceWarning: DataFrame is highly fragmented.  This is usually the result of calling `frame.insert` many times, which has poor performance.  Consider joining all columns at once using pd.concat(axis=1) instead. To get a de-fragmented frame, use `newframe = frame.copy()`\n",
      "  pr_df[f\"title_wordcount_{word}\"] = preproc_titles.apply(\n",
      "100%|██████████| 171/171 [00:01<00:00, 106.65it/s]\n"
     ]
    }
   ],
   "source": [
    "# add word count columns\n",
    "for word in tqdm(unique_words):\n",
    "    pr_df[f\"title_wordcount_{word}\"] = preproc_titles.apply(\n",
    "        lambda x: x.split().count(word)\n",
    "    )"
   ]
  },
  {
   "cell_type": "code",
   "execution_count": 25,
   "id": "41cf9f16",
   "metadata": {},
   "outputs": [],
   "source": [
    "# collapse the high dim vector into one column\n",
    "wordcount_columns = [c for c in pr_df.columns if \"wordcount\" in c]\n",
    "pr_df[\"title_word_counts_vec\"] = pr_df[wordcount_columns].apply(\n",
    "    lambda x: x.tolist(), axis=1\n",
    ")\n",
    "\n",
    "# drop the individual wordcount columns\n",
    "pr_df = pr_df.drop(columns=wordcount_columns)"
   ]
  },
  {
   "cell_type": "markdown",
   "id": "06f46edc",
   "metadata": {},
   "source": [
    "**Created At**\n",
    "\n",
    "This column can give us information on when the PR was created. Using the `created_at` field, we can derive other features like `time_of_day`, `day_of_week`, `day_of_month`, `month_in_year` each of which can be categorical features that can be useful to our analysis."
   ]
  },
  {
   "cell_type": "code",
   "execution_count": 26,
   "id": "b6db783b",
   "metadata": {},
   "outputs": [],
   "source": [
    "# convert to datetime object\n",
    "pr_df[\"created_at_datetime\"] = (\n",
    "    pr_df[\"created_at\"].fillna(\"\").apply(lambda x: datetime.datetime.fromtimestamp(x))\n",
    ")\n",
    "# get day as categorical variable\n",
    "pr_df[\"created_at_day\"] = pr_df[\"created_at_datetime\"].apply(lambda x: x.day)\n",
    "\n",
    "# get month as categorical variable\n",
    "pr_df[\"created_at_month\"] = pr_df[\"created_at_datetime\"].apply(lambda x: x.month)\n",
    "\n",
    "# get weekday as categorical variable\n",
    "pr_df[\"created_at_weekday\"] = pr_df[\"created_at_datetime\"].apply(lambda x: x.weekday())\n",
    "\n",
    "# get hour of day as categorical variable\n",
    "pr_df[\"created_at_hour\"] = pr_df[\"created_at_datetime\"].apply(lambda x: x.hour)"
   ]
  },
  {
   "cell_type": "code",
   "execution_count": 27,
   "id": "f6cb1704",
   "metadata": {},
   "outputs": [
    {
     "data": {
      "text/html": [
       "<div>\n",
       "<style scoped>\n",
       "    .dataframe tbody tr th:only-of-type {\n",
       "        vertical-align: middle;\n",
       "    }\n",
       "\n",
       "    .dataframe tbody tr th {\n",
       "        vertical-align: top;\n",
       "    }\n",
       "\n",
       "    .dataframe thead th {\n",
       "        text-align: right;\n",
       "    }\n",
       "</style>\n",
       "<table border=\"1\" class=\"dataframe\">\n",
       "  <thead>\n",
       "    <tr style=\"text-align: right;\">\n",
       "      <th></th>\n",
       "      <th>title</th>\n",
       "      <th>body</th>\n",
       "      <th>size</th>\n",
       "      <th>created_by</th>\n",
       "      <th>created_at</th>\n",
       "      <th>closed_at</th>\n",
       "      <th>closed_by</th>\n",
       "      <th>merged_at</th>\n",
       "      <th>merged_by</th>\n",
       "      <th>commits_number</th>\n",
       "      <th>...</th>\n",
       "      <th>first_review_at</th>\n",
       "      <th>first_approve_at</th>\n",
       "      <th>time_to_merge</th>\n",
       "      <th>body_size</th>\n",
       "      <th>title_word_counts_vec</th>\n",
       "      <th>created_at_datetime</th>\n",
       "      <th>created_at_day</th>\n",
       "      <th>created_at_month</th>\n",
       "      <th>created_at_weekday</th>\n",
       "      <th>created_at_hour</th>\n",
       "    </tr>\n",
       "  </thead>\n",
       "  <tbody>\n",
       "    <tr>\n",
       "      <th>0</th>\n",
       "      <td>use os.Stdout.WriteString instead of fmt.Printf</td>\n",
       "      <td>This PR removes usage of `fmt.Printf` so that ...</td>\n",
       "      <td>0</td>\n",
       "      <td>RobotSail</td>\n",
       "      <td>1667591915</td>\n",
       "      <td>1667592021</td>\n",
       "      <td>RobotSail</td>\n",
       "      <td>1.667592e+09</td>\n",
       "      <td>RobotSail</td>\n",
       "      <td>1</td>\n",
       "      <td>...</td>\n",
       "      <td>NaN</td>\n",
       "      <td>NaN</td>\n",
       "      <td>106.0</td>\n",
       "      <td>17</td>\n",
       "      <td>[0, 0, 0, 0, 0, 0, 0, 0, 0, 0, 0, 0, 0, 0, 0, ...</td>\n",
       "      <td>2022-11-04 19:58:35</td>\n",
       "      <td>4</td>\n",
       "      <td>11</td>\n",
       "      <td>4</td>\n",
       "      <td>19</td>\n",
       "    </tr>\n",
       "    <tr>\n",
       "      <th>1</th>\n",
       "      <td>Outputs JSON contents to STDOUT</td>\n",
       "      <td>This PR outputs the results of the generation ...</td>\n",
       "      <td>0</td>\n",
       "      <td>RobotSail</td>\n",
       "      <td>1667590403</td>\n",
       "      <td>1667590430</td>\n",
       "      <td>RobotSail</td>\n",
       "      <td>1.667590e+09</td>\n",
       "      <td>RobotSail</td>\n",
       "      <td>1</td>\n",
       "      <td>...</td>\n",
       "      <td>NaN</td>\n",
       "      <td>NaN</td>\n",
       "      <td>27.0</td>\n",
       "      <td>17</td>\n",
       "      <td>[0, 0, 0, 0, 0, 0, 0, 0, 0, 0, 0, 0, 0, 0, 0, ...</td>\n",
       "      <td>2022-11-04 19:33:23</td>\n",
       "      <td>4</td>\n",
       "      <td>11</td>\n",
       "      <td>4</td>\n",
       "      <td>19</td>\n",
       "    </tr>\n",
       "  </tbody>\n",
       "</table>\n",
       "<p>2 rows × 26 columns</p>\n",
       "</div>"
      ],
      "text/plain": [
       "                                             title  \\\n",
       "0  use os.Stdout.WriteString instead of fmt.Printf   \n",
       "1                  Outputs JSON contents to STDOUT   \n",
       "\n",
       "                                                body  size created_by  \\\n",
       "0  This PR removes usage of `fmt.Printf` so that ...     0  RobotSail   \n",
       "1  This PR outputs the results of the generation ...     0  RobotSail   \n",
       "\n",
       "   created_at   closed_at  closed_by     merged_at  merged_by  commits_number  \\\n",
       "0  1667591915  1667592021  RobotSail  1.667592e+09  RobotSail               1   \n",
       "1  1667590403  1667590430  RobotSail  1.667590e+09  RobotSail               1   \n",
       "\n",
       "   ...  first_review_at first_approve_at time_to_merge body_size  \\\n",
       "0  ...              NaN              NaN         106.0        17   \n",
       "1  ...              NaN              NaN          27.0        17   \n",
       "\n",
       "                               title_word_counts_vec created_at_datetime  \\\n",
       "0  [0, 0, 0, 0, 0, 0, 0, 0, 0, 0, 0, 0, 0, 0, 0, ... 2022-11-04 19:58:35   \n",
       "1  [0, 0, 0, 0, 0, 0, 0, 0, 0, 0, 0, 0, 0, 0, 0, ... 2022-11-04 19:33:23   \n",
       "\n",
       "   created_at_day  created_at_month  created_at_weekday  created_at_hour  \n",
       "0               4                11                   4               19  \n",
       "1               4                11                   4               19  \n",
       "\n",
       "[2 rows x 26 columns]"
      ]
     },
     "execution_count": 27,
     "metadata": {},
     "output_type": "execute_result"
    }
   ],
   "source": [
    "pr_df.head(2)"
   ]
  },
  {
   "cell_type": "markdown",
   "id": "772ea2a9",
   "metadata": {},
   "source": [
    "**Changed Files Number**  \n",
    "Changed files is a numberical variable which captures the numer of files that were modified in the PR."
   ]
  },
  {
   "cell_type": "code",
   "execution_count": 28,
   "id": "b5687644",
   "metadata": {},
   "outputs": [
    {
     "data": {
      "text/plain": [
       "1     30\n",
       "7     11\n",
       "2      5\n",
       "6      3\n",
       "3      3\n",
       "17     2\n",
       "13     2\n",
       "8      2\n",
       "5      2\n",
       "25     1\n",
       "14     1\n",
       "26     1\n",
       "27     1\n",
       "Name: changed_files_number, dtype: int64"
      ]
     },
     "execution_count": 28,
     "metadata": {},
     "output_type": "execute_result"
    }
   ],
   "source": [
    "# convert changed_files_number to int\n",
    "pr_df[\"changed_files_number\"] = pr_df[\"changed_files_number\"].astype(\"int\")\n",
    "\n",
    "pr_df.changed_files_number.value_counts()"
   ]
  },
  {
   "cell_type": "markdown",
   "id": "2ec4a803",
   "metadata": {},
   "source": [
    "`changed_files_number` has more variability than the `commits_number`. We can incorporate this as a numerical feature."
   ]
  },
  {
   "cell_type": "markdown",
   "id": "360ea47c",
   "metadata": {},
   "source": [
    "**Changed_files**\n",
    "\n",
    "`changed_files` is a list of the paths and filenames for every file changed by this PR. From `changed_files`, we know, for each PR, which file types were changed which can be encoded as a frequency vector. Also we know which directory the change is made in, so that can be encoded as a categorical variable."
   ]
  },
  {
   "cell_type": "code",
   "execution_count": 29,
   "id": "ea080575",
   "metadata": {},
   "outputs": [
    {
     "data": {
      "text/plain": [
       "0                                    [pkg/cmd/utils.go]\n",
       "1                                    [pkg/cmd/utils.go]\n",
       "2     [.gitignore, .golangci.yaml, go.mod, go.sum, p...\n",
       "3              [README.md, public/copilot-ops-logo.png]\n",
       "4                                          [Dockerfile]\n",
       "                            ...                        \n",
       "59    [LICENSE, README.md, go.mod, go.sum, main.go, ...\n",
       "60    [.gitignore, data-lab/bot_logic_without_github...\n",
       "61    [.gitignore, data-lab/README.md, data-lab/Unti...\n",
       "62    [operator-in-JavaScript/.eslintignore, operato...\n",
       "63    [data-lab/README.md, data-lab/openshiftai.ipyn...\n",
       "Name: changed_files, Length: 64, dtype: object"
      ]
     },
     "execution_count": 29,
     "metadata": {},
     "output_type": "execute_result"
    }
   ],
   "source": [
    "pr_df.changed_files"
   ]
  },
  {
   "cell_type": "code",
   "execution_count": 30,
   "id": "ba70b93f",
   "metadata": {},
   "outputs": [],
   "source": [
    "def filetype(filepath):\n",
    "\n",
    "    # if standard file extension, return file extension\n",
    "    if pathlib.Path(filepath).suffix:\n",
    "        return pathlib.Path(filepath).suffix\n",
    "\n",
    "    else:\n",
    "        # if single file at the root of repo\n",
    "        if \"/\" not in filepath:\n",
    "            # if a file like README/Dockerfile etc\n",
    "            if \".\" not in filepath:\n",
    "                return filepath\n",
    "        # if file not at root\n",
    "        else:\n",
    "            # get file name\n",
    "            file = filepath.rsplit(\"/\", 1)[1]\n",
    "            if \".\" not in file:\n",
    "                return file\n",
    "            elif \".\" in file:\n",
    "                return \".\" + file.rsplit(\".\", 1)[1]"
   ]
  },
  {
   "cell_type": "code",
   "execution_count": 31,
   "id": "2e00c415",
   "metadata": {},
   "outputs": [],
   "source": [
    "# get list of all file types that were modified across all openshift origin PRs\n",
    "changed_files = list(pr_df[\"changed_files\"])"
   ]
  },
  {
   "cell_type": "code",
   "execution_count": 32,
   "id": "36a1dcda",
   "metadata": {},
   "outputs": [],
   "source": [
    "all_changed_files = [filetype(filepath) for pr in changed_files for filepath in pr]"
   ]
  },
  {
   "cell_type": "code",
   "execution_count": 33,
   "id": "d7de1e91",
   "metadata": {},
   "outputs": [],
   "source": [
    "count = Counter(all_changed_files)"
   ]
  },
  {
   "cell_type": "code",
   "execution_count": 34,
   "id": "17e5fd80",
   "metadata": {},
   "outputs": [],
   "source": [
    "# save 100 most commonly occuring file extensions across PRs\n",
    "top_fileextensions_freq = count.most_common(100)\n",
    "top_fileextensions = [ext[0] for ext in top_fileextensions_freq]"
   ]
  },
  {
   "cell_type": "code",
   "execution_count": 35,
   "id": "25a14da8",
   "metadata": {},
   "outputs": [
    {
     "data": {
      "text/plain": [
       "['.go',\n",
       " '.yaml',\n",
       " '.md',\n",
       " None,\n",
       " '.mod',\n",
       " '.sum',\n",
       " 'Makefile',\n",
       " '.json',\n",
       " '.ts',\n",
       " '.ipynb',\n",
       " 'Dockerfile',\n",
       " '.graphql',\n",
       " '.lock',\n",
       " '.txt',\n",
       " '.png',\n",
       " 'LICENSE',\n",
       " '.js',\n",
       " '.eslintignore',\n",
       " '.eslintrc',\n",
       " '.gitignore']"
      ]
     },
     "execution_count": 35,
     "metadata": {},
     "output_type": "execute_result"
    }
   ],
   "source": [
    "top_fileextensions"
   ]
  },
  {
   "cell_type": "code",
   "execution_count": 36,
   "id": "ecd11700",
   "metadata": {},
   "outputs": [],
   "source": [
    "def file_type_freq(list_of_filepaths):\n",
    "    \"\"\"\n",
    "    For a given PR's list of changed files,\n",
    "    return a changed files frequency vector\n",
    "    ( a vector which holds the frequency of\n",
    "    changed files of the type  for every\n",
    "    file type in top_fileextensions )\n",
    "    \"\"\"\n",
    "\n",
    "    file_extensions = [filetype(f) for f in list_of_filepaths]\n",
    "    ext_dict = {key: 0 for key in top_fileextensions}\n",
    "    for f in file_extensions:\n",
    "        if f in ext_dict:\n",
    "            ext_dict[f] += 1\n",
    "\n",
    "    return list(ext_dict.values())"
   ]
  },
  {
   "cell_type": "code",
   "execution_count": 37,
   "id": "cc0b7906",
   "metadata": {},
   "outputs": [],
   "source": [
    "pr_df[\"changed_file_type_vec\"] = pr_df[\"changed_files\"].apply(\n",
    "    lambda x: file_type_freq(x)\n",
    ")"
   ]
  },
  {
   "cell_type": "code",
   "execution_count": 38,
   "id": "4fe7bb1d",
   "metadata": {},
   "outputs": [
    {
     "data": {
      "text/html": [
       "<div>\n",
       "<style scoped>\n",
       "    .dataframe tbody tr th:only-of-type {\n",
       "        vertical-align: middle;\n",
       "    }\n",
       "\n",
       "    .dataframe tbody tr th {\n",
       "        vertical-align: top;\n",
       "    }\n",
       "\n",
       "    .dataframe thead th {\n",
       "        text-align: right;\n",
       "    }\n",
       "</style>\n",
       "<table border=\"1\" class=\"dataframe\">\n",
       "  <thead>\n",
       "    <tr style=\"text-align: right;\">\n",
       "      <th></th>\n",
       "      <th>title</th>\n",
       "      <th>body</th>\n",
       "      <th>size</th>\n",
       "      <th>created_by</th>\n",
       "      <th>created_at</th>\n",
       "      <th>closed_at</th>\n",
       "      <th>closed_by</th>\n",
       "      <th>merged_at</th>\n",
       "      <th>merged_by</th>\n",
       "      <th>commits_number</th>\n",
       "      <th>...</th>\n",
       "      <th>first_approve_at</th>\n",
       "      <th>time_to_merge</th>\n",
       "      <th>body_size</th>\n",
       "      <th>title_word_counts_vec</th>\n",
       "      <th>created_at_datetime</th>\n",
       "      <th>created_at_day</th>\n",
       "      <th>created_at_month</th>\n",
       "      <th>created_at_weekday</th>\n",
       "      <th>created_at_hour</th>\n",
       "      <th>changed_file_type_vec</th>\n",
       "    </tr>\n",
       "  </thead>\n",
       "  <tbody>\n",
       "    <tr>\n",
       "      <th>0</th>\n",
       "      <td>use os.Stdout.WriteString instead of fmt.Printf</td>\n",
       "      <td>This PR removes usage of `fmt.Printf` so that ...</td>\n",
       "      <td>0</td>\n",
       "      <td>RobotSail</td>\n",
       "      <td>1667591915</td>\n",
       "      <td>1667592021</td>\n",
       "      <td>RobotSail</td>\n",
       "      <td>1.667592e+09</td>\n",
       "      <td>RobotSail</td>\n",
       "      <td>1</td>\n",
       "      <td>...</td>\n",
       "      <td>NaN</td>\n",
       "      <td>106.0</td>\n",
       "      <td>17</td>\n",
       "      <td>[0, 0, 0, 0, 0, 0, 0, 0, 0, 0, 0, 0, 0, 0, 0, ...</td>\n",
       "      <td>2022-11-04 19:58:35</td>\n",
       "      <td>4</td>\n",
       "      <td>11</td>\n",
       "      <td>4</td>\n",
       "      <td>19</td>\n",
       "      <td>[1, 0, 0, 0, 0, 0, 0, 0, 0, 0, 0, 0, 0, 0, 0, ...</td>\n",
       "    </tr>\n",
       "    <tr>\n",
       "      <th>1</th>\n",
       "      <td>Outputs JSON contents to STDOUT</td>\n",
       "      <td>This PR outputs the results of the generation ...</td>\n",
       "      <td>0</td>\n",
       "      <td>RobotSail</td>\n",
       "      <td>1667590403</td>\n",
       "      <td>1667590430</td>\n",
       "      <td>RobotSail</td>\n",
       "      <td>1.667590e+09</td>\n",
       "      <td>RobotSail</td>\n",
       "      <td>1</td>\n",
       "      <td>...</td>\n",
       "      <td>NaN</td>\n",
       "      <td>27.0</td>\n",
       "      <td>17</td>\n",
       "      <td>[0, 0, 0, 0, 0, 0, 0, 0, 0, 0, 0, 0, 0, 0, 0, ...</td>\n",
       "      <td>2022-11-04 19:33:23</td>\n",
       "      <td>4</td>\n",
       "      <td>11</td>\n",
       "      <td>4</td>\n",
       "      <td>19</td>\n",
       "      <td>[1, 0, 0, 0, 0, 0, 0, 0, 0, 0, 0, 0, 0, 0, 0, ...</td>\n",
       "    </tr>\n",
       "  </tbody>\n",
       "</table>\n",
       "<p>2 rows × 27 columns</p>\n",
       "</div>"
      ],
      "text/plain": [
       "                                             title  \\\n",
       "0  use os.Stdout.WriteString instead of fmt.Printf   \n",
       "1                  Outputs JSON contents to STDOUT   \n",
       "\n",
       "                                                body  size created_by  \\\n",
       "0  This PR removes usage of `fmt.Printf` so that ...     0  RobotSail   \n",
       "1  This PR outputs the results of the generation ...     0  RobotSail   \n",
       "\n",
       "   created_at   closed_at  closed_by     merged_at  merged_by  commits_number  \\\n",
       "0  1667591915  1667592021  RobotSail  1.667592e+09  RobotSail               1   \n",
       "1  1667590403  1667590430  RobotSail  1.667590e+09  RobotSail               1   \n",
       "\n",
       "   ...  first_approve_at time_to_merge body_size  \\\n",
       "0  ...               NaN         106.0        17   \n",
       "1  ...               NaN          27.0        17   \n",
       "\n",
       "                               title_word_counts_vec created_at_datetime  \\\n",
       "0  [0, 0, 0, 0, 0, 0, 0, 0, 0, 0, 0, 0, 0, 0, 0, ... 2022-11-04 19:58:35   \n",
       "1  [0, 0, 0, 0, 0, 0, 0, 0, 0, 0, 0, 0, 0, 0, 0, ... 2022-11-04 19:33:23   \n",
       "\n",
       "  created_at_day  created_at_month  created_at_weekday  created_at_hour  \\\n",
       "0              4                11                   4               19   \n",
       "1              4                11                   4               19   \n",
       "\n",
       "                               changed_file_type_vec  \n",
       "0  [1, 0, 0, 0, 0, 0, 0, 0, 0, 0, 0, 0, 0, 0, 0, ...  \n",
       "1  [1, 0, 0, 0, 0, 0, 0, 0, 0, 0, 0, 0, 0, 0, 0, ...  \n",
       "\n",
       "[2 rows x 27 columns]"
      ]
     },
     "execution_count": 38,
     "metadata": {},
     "output_type": "execute_result"
    }
   ],
   "source": [
    "pr_df.head(2)"
   ]
  },
  {
   "cell_type": "markdown",
   "id": "8102f95e-6175-4b46-99c1-66175f20325c",
   "metadata": {},
   "source": [
    "## Create PR trends dashboard"
   ]
  },
  {
   "cell_type": "markdown",
   "id": "5e502b7f-49c4-4024-aebc-3c9720a94209",
   "metadata": {},
   "source": [
    "## Infer dataframe columns as Features"
   ]
  },
  {
   "cell_type": "markdown",
   "id": "70443afd",
   "metadata": {},
   "source": [
    "We can see above that some PRs have 0 for all directory fields since the directory structure of the repo has changed over time and we are interested in only the latest directory structure."
   ]
  },
  {
   "cell_type": "code",
   "execution_count": 39,
   "id": "64e7a822",
   "metadata": {},
   "outputs": [],
   "source": [
    "# subset DataFrame to use as features\n",
    "feature_df = pr_df[\n",
    "    [\n",
    "        \"time_to_merge\",\n",
    "        \"changed_files_number\",\n",
    "        \"body_size\",\n",
    "        \"size\",\n",
    "        \"title_word_counts_vec\",\n",
    "        \"created_at_day\",\n",
    "        \"created_at_month\",\n",
    "        \"created_at_weekday\",\n",
    "        \"created_at_hour\",\n",
    "        \"commits_number\",\n",
    "        \"changed_file_type_vec\",\n",
    "    ]\n",
    "]"
   ]
  },
  {
   "cell_type": "markdown",
   "id": "0b08a241",
   "metadata": {},
   "source": [
    "### Add PR TTM Class Column \n",
    "\n",
    "Lets split up the time to merge values into 10 discrete bins (as discussed above) to use as our prediction classes."
   ]
  },
  {
   "cell_type": "code",
   "execution_count": 40,
   "id": "b1a5adc0-e8e2-4159-af36-a6fdc938de17",
   "metadata": {},
   "outputs": [
    {
     "data": {
      "text/plain": [
       "0.0         4.0\n",
       "0.1         4.7\n",
       "0.2         5.0\n",
       "0.3        11.6\n",
       "0.4        90.8\n",
       "0.5       186.5\n",
       "0.6       444.0\n",
       "0.7      1730.9\n",
       "0.8     18734.6\n",
       "0.9    330274.1\n",
       "Name: time_to_merge, dtype: float64"
      ]
     },
     "execution_count": 40,
     "metadata": {},
     "output_type": "execute_result"
    }
   ],
   "source": [
    "intervals"
   ]
  },
  {
   "cell_type": "code",
   "execution_count": 41,
   "id": "ec16152d-0fb3-4775-913a-9e476382d713",
   "metadata": {},
   "outputs": [
    {
     "name": "stderr",
     "output_type": "stream",
     "text": [
      "/tmp/ipykernel_2239/2436122750.py:9: SettingWithCopyWarning: \n",
      "A value is trying to be set on a copy of a slice from a DataFrame.\n",
      "Try using .loc[row_indexer,col_indexer] = value instead\n",
      "\n",
      "See the caveats in the documentation: https://pandas.pydata.org/pandas-docs/stable/user_guide/indexing.html#returning-a-view-versus-a-copy\n",
      "  feature_df[\"ttm_class\"] = (feature_df[\"time_to_merge\"]).apply(get_ttm_class)\n"
     ]
    },
    {
     "data": {
      "text/html": [
       "<div>\n",
       "<style scoped>\n",
       "    .dataframe tbody tr th:only-of-type {\n",
       "        vertical-align: middle;\n",
       "    }\n",
       "\n",
       "    .dataframe tbody tr th {\n",
       "        vertical-align: top;\n",
       "    }\n",
       "\n",
       "    .dataframe thead th {\n",
       "        text-align: right;\n",
       "    }\n",
       "</style>\n",
       "<table border=\"1\" class=\"dataframe\">\n",
       "  <thead>\n",
       "    <tr style=\"text-align: right;\">\n",
       "      <th></th>\n",
       "      <th>time_to_merge</th>\n",
       "      <th>changed_files_number</th>\n",
       "      <th>body_size</th>\n",
       "      <th>size</th>\n",
       "      <th>title_word_counts_vec</th>\n",
       "      <th>created_at_day</th>\n",
       "      <th>created_at_month</th>\n",
       "      <th>created_at_weekday</th>\n",
       "      <th>created_at_hour</th>\n",
       "      <th>commits_number</th>\n",
       "      <th>changed_file_type_vec</th>\n",
       "      <th>ttm_class</th>\n",
       "    </tr>\n",
       "  </thead>\n",
       "  <tbody>\n",
       "    <tr>\n",
       "      <th>0</th>\n",
       "      <td>106.0</td>\n",
       "      <td>1</td>\n",
       "      <td>17</td>\n",
       "      <td>0</td>\n",
       "      <td>[0, 0, 0, 0, 0, 0, 0, 0, 0, 0, 0, 0, 0, 0, 0, ...</td>\n",
       "      <td>4</td>\n",
       "      <td>11</td>\n",
       "      <td>4</td>\n",
       "      <td>19</td>\n",
       "      <td>1</td>\n",
       "      <td>[1, 0, 0, 0, 0, 0, 0, 0, 0, 0, 0, 0, 0, 0, 0, ...</td>\n",
       "      <td>4</td>\n",
       "    </tr>\n",
       "    <tr>\n",
       "      <th>1</th>\n",
       "      <td>27.0</td>\n",
       "      <td>1</td>\n",
       "      <td>17</td>\n",
       "      <td>0</td>\n",
       "      <td>[0, 0, 0, 0, 0, 0, 0, 0, 0, 0, 0, 0, 0, 0, 0, ...</td>\n",
       "      <td>4</td>\n",
       "      <td>11</td>\n",
       "      <td>4</td>\n",
       "      <td>19</td>\n",
       "      <td>1</td>\n",
       "      <td>[1, 0, 0, 0, 0, 0, 0, 0, 0, 0, 0, 0, 0, 0, 0, ...</td>\n",
       "      <td>3</td>\n",
       "    </tr>\n",
       "    <tr>\n",
       "      <th>2</th>\n",
       "      <td>1314889.0</td>\n",
       "      <td>25</td>\n",
       "      <td>84</td>\n",
       "      <td>4</td>\n",
       "      <td>[0, 0, 0, 0, 1, 1, 0, 0, 0, 0, 0, 1, 0, 0, 1, ...</td>\n",
       "      <td>13</td>\n",
       "      <td>9</td>\n",
       "      <td>1</td>\n",
       "      <td>14</td>\n",
       "      <td>11</td>\n",
       "      <td>[21, 1, 0, 1, 1, 1, 0, 0, 0, 0, 0, 0, 0, 0, 0,...</td>\n",
       "      <td>9</td>\n",
       "    </tr>\n",
       "    <tr>\n",
       "      <th>3</th>\n",
       "      <td>1714702.0</td>\n",
       "      <td>2</td>\n",
       "      <td>17</td>\n",
       "      <td>1</td>\n",
       "      <td>[0, 0, 0, 0, 0, 0, 0, 0, 0, 0, 0, 0, 0, 0, 0, ...</td>\n",
       "      <td>10</td>\n",
       "      <td>8</td>\n",
       "      <td>2</td>\n",
       "      <td>18</td>\n",
       "      <td>7</td>\n",
       "      <td>[0, 0, 1, 0, 0, 0, 0, 0, 0, 0, 0, 0, 0, 0, 1, ...</td>\n",
       "      <td>9</td>\n",
       "    </tr>\n",
       "    <tr>\n",
       "      <th>4</th>\n",
       "      <td>210.0</td>\n",
       "      <td>1</td>\n",
       "      <td>4</td>\n",
       "      <td>0</td>\n",
       "      <td>[0, 0, 0, 0, 0, 0, 0, 0, 0, 0, 0, 0, 0, 0, 0, ...</td>\n",
       "      <td>8</td>\n",
       "      <td>8</td>\n",
       "      <td>0</td>\n",
       "      <td>19</td>\n",
       "      <td>1</td>\n",
       "      <td>[0, 0, 0, 0, 0, 0, 0, 0, 0, 0, 1, 0, 0, 0, 0, ...</td>\n",
       "      <td>5</td>\n",
       "    </tr>\n",
       "  </tbody>\n",
       "</table>\n",
       "</div>"
      ],
      "text/plain": [
       "   time_to_merge  changed_files_number  body_size  size  \\\n",
       "0          106.0                     1         17     0   \n",
       "1           27.0                     1         17     0   \n",
       "2      1314889.0                    25         84     4   \n",
       "3      1714702.0                     2         17     1   \n",
       "4          210.0                     1          4     0   \n",
       "\n",
       "                               title_word_counts_vec  created_at_day  \\\n",
       "0  [0, 0, 0, 0, 0, 0, 0, 0, 0, 0, 0, 0, 0, 0, 0, ...               4   \n",
       "1  [0, 0, 0, 0, 0, 0, 0, 0, 0, 0, 0, 0, 0, 0, 0, ...               4   \n",
       "2  [0, 0, 0, 0, 1, 1, 0, 0, 0, 0, 0, 1, 0, 0, 1, ...              13   \n",
       "3  [0, 0, 0, 0, 0, 0, 0, 0, 0, 0, 0, 0, 0, 0, 0, ...              10   \n",
       "4  [0, 0, 0, 0, 0, 0, 0, 0, 0, 0, 0, 0, 0, 0, 0, ...               8   \n",
       "\n",
       "   created_at_month  created_at_weekday  created_at_hour  commits_number  \\\n",
       "0                11                   4               19               1   \n",
       "1                11                   4               19               1   \n",
       "2                 9                   1               14              11   \n",
       "3                 8                   2               18               7   \n",
       "4                 8                   0               19               1   \n",
       "\n",
       "                               changed_file_type_vec  ttm_class  \n",
       "0  [1, 0, 0, 0, 0, 0, 0, 0, 0, 0, 0, 0, 0, 0, 0, ...          4  \n",
       "1  [1, 0, 0, 0, 0, 0, 0, 0, 0, 0, 0, 0, 0, 0, 0, ...          3  \n",
       "2  [21, 1, 0, 1, 1, 1, 0, 0, 0, 0, 0, 0, 0, 0, 0,...          9  \n",
       "3  [0, 0, 1, 0, 0, 0, 0, 0, 0, 0, 0, 0, 0, 0, 1, ...          9  \n",
       "4  [0, 0, 0, 0, 0, 0, 0, 0, 0, 0, 1, 0, 0, 0, 0, ...          5  "
      ]
     },
     "execution_count": 41,
     "metadata": {},
     "output_type": "execute_result"
    }
   ],
   "source": [
    "def get_ttm_class(ttm):\n",
    "\n",
    "    for rownum, (indx, val) in enumerate(intervals.iteritems()):\n",
    "        if ttm < val:\n",
    "            return rownum - 1\n",
    "    return 9\n",
    "\n",
    "\n",
    "feature_df[\"ttm_class\"] = (feature_df[\"time_to_merge\"]).apply(get_ttm_class)\n",
    "feature_df.head()"
   ]
  },
  {
   "cell_type": "markdown",
   "id": "04749f45",
   "metadata": {},
   "source": [
    "## Evaluating Feature Importances\n",
    "\n",
    "### Categorical Features\n",
    "\n",
    "First, lets try to determine what categorical featuers are powerful influencers for time to merge of a PR"
   ]
  },
  {
   "cell_type": "code",
   "execution_count": 42,
   "id": "e353c92b",
   "metadata": {},
   "outputs": [],
   "source": [
    "# feature selection helper function\n",
    "def select_features(x, y, func):\n",
    "    fs = SelectKBest(score_func=func, k=\"all\")\n",
    "    fs.fit(x, y)\n",
    "    x_fs = fs.transform(x)\n",
    "    return x_fs, fs\n",
    "\n",
    "\n",
    "selected_features = []"
   ]
  },
  {
   "cell_type": "code",
   "execution_count": 43,
   "id": "986b3424-0401-4c7a-8f28-a860b87e14ef",
   "metadata": {},
   "outputs": [],
   "source": [
    "cat_features = [\n",
    "    \"size\",\n",
    "    \"created_at_day\",\n",
    "    \"created_at_month\",\n",
    "    \"created_at_weekday\",\n",
    "    \"created_at_hour\",\n",
    "    \"ttm_class\",\n",
    "]"
   ]
  },
  {
   "cell_type": "code",
   "execution_count": 44,
   "id": "3e1d24a4",
   "metadata": {},
   "outputs": [
    {
     "data": {
      "text/html": [
       "<div>\n",
       "<style scoped>\n",
       "    .dataframe tbody tr th:only-of-type {\n",
       "        vertical-align: middle;\n",
       "    }\n",
       "\n",
       "    .dataframe tbody tr th {\n",
       "        vertical-align: top;\n",
       "    }\n",
       "\n",
       "    .dataframe thead th {\n",
       "        text-align: right;\n",
       "    }\n",
       "</style>\n",
       "<table border=\"1\" class=\"dataframe\">\n",
       "  <thead>\n",
       "    <tr style=\"text-align: right;\">\n",
       "      <th></th>\n",
       "      <th>size</th>\n",
       "      <th>created_at_day</th>\n",
       "      <th>created_at_month</th>\n",
       "      <th>created_at_weekday</th>\n",
       "      <th>created_at_hour</th>\n",
       "      <th>ttm_class</th>\n",
       "    </tr>\n",
       "  </thead>\n",
       "  <tbody>\n",
       "    <tr>\n",
       "      <th>0</th>\n",
       "      <td>0</td>\n",
       "      <td>4</td>\n",
       "      <td>11</td>\n",
       "      <td>4</td>\n",
       "      <td>19</td>\n",
       "      <td>4</td>\n",
       "    </tr>\n",
       "    <tr>\n",
       "      <th>1</th>\n",
       "      <td>0</td>\n",
       "      <td>4</td>\n",
       "      <td>11</td>\n",
       "      <td>4</td>\n",
       "      <td>19</td>\n",
       "      <td>3</td>\n",
       "    </tr>\n",
       "    <tr>\n",
       "      <th>2</th>\n",
       "      <td>4</td>\n",
       "      <td>13</td>\n",
       "      <td>9</td>\n",
       "      <td>1</td>\n",
       "      <td>14</td>\n",
       "      <td>9</td>\n",
       "    </tr>\n",
       "    <tr>\n",
       "      <th>3</th>\n",
       "      <td>1</td>\n",
       "      <td>10</td>\n",
       "      <td>8</td>\n",
       "      <td>2</td>\n",
       "      <td>18</td>\n",
       "      <td>9</td>\n",
       "    </tr>\n",
       "    <tr>\n",
       "      <th>4</th>\n",
       "      <td>0</td>\n",
       "      <td>8</td>\n",
       "      <td>8</td>\n",
       "      <td>0</td>\n",
       "      <td>19</td>\n",
       "      <td>5</td>\n",
       "    </tr>\n",
       "  </tbody>\n",
       "</table>\n",
       "</div>"
      ],
      "text/plain": [
       "   size  created_at_day  created_at_month  created_at_weekday  \\\n",
       "0     0               4                11                   4   \n",
       "1     0               4                11                   4   \n",
       "2     4              13                 9                   1   \n",
       "3     1              10                 8                   2   \n",
       "4     0               8                 8                   0   \n",
       "\n",
       "   created_at_hour  ttm_class  \n",
       "0               19          4  \n",
       "1               19          3  \n",
       "2               14          9  \n",
       "3               18          9  \n",
       "4               19          5  "
      ]
     },
     "execution_count": 44,
     "metadata": {},
     "output_type": "execute_result"
    }
   ],
   "source": [
    "cat_df = feature_df[cat_features]\n",
    "\n",
    "cat_df.head()"
   ]
  },
  {
   "cell_type": "code",
   "execution_count": 45,
   "id": "278e3073",
   "metadata": {},
   "outputs": [],
   "source": [
    "# split into input (x) and output (y) variables\n",
    "X_inp = cat_df.drop(columns=[\"ttm_class\"])\n",
    "y = cat_df[\"ttm_class\"]"
   ]
  },
  {
   "cell_type": "code",
   "execution_count": 46,
   "id": "2df4fb8d",
   "metadata": {},
   "outputs": [],
   "source": [
    "# rank using mutual_info_classif\n",
    "X_fs, fs = select_features(X_inp, y, mutual_info_classif)"
   ]
  },
  {
   "cell_type": "code",
   "execution_count": 47,
   "id": "418becb1",
   "metadata": {},
   "outputs": [
    {
     "name": "stdout",
     "output_type": "stream",
     "text": [
      "Feature size: 0.062956\n",
      "Feature created_at_day: 0.248565\n",
      "Feature created_at_month: 0.451258\n",
      "Feature created_at_weekday: 0.158316\n",
      "Feature created_at_hour: 0.060773\n"
     ]
    }
   ],
   "source": [
    "for i in range(len(fs.scores_)):\n",
    "    print(\"Feature %s: %f\" % (X_inp.columns[i], fs.scores_[i]))"
   ]
  },
  {
   "cell_type": "code",
   "execution_count": 48,
   "id": "b08ea157",
   "metadata": {},
   "outputs": [
    {
     "data": {
      "image/png": "[encoded data removed]",
      "text/plain": [
       "<Figure size 432x288 with 1 Axes>"
      ]
     },
     "metadata": {
      "needs_background": "light"
     },
     "output_type": "display_data"
    }
   ],
   "source": [
    "# visualize scores of all features\n",
    "sns.barplot(x=X_inp.columns, y=fs.scores_)\n",
    "plt.title(\"Feature importance scores for Mutual Information Statistic\")\n",
    "plt.xticks(rotation=60)\n",
    "plt.xlabel(\"Features\")\n",
    "plt.ylabel(\"Scores\")\n",
    "plt.show()"
   ]
  },
  {
   "cell_type": "code",
   "execution_count": 49,
   "id": "176c1d98",
   "metadata": {},
   "outputs": [],
   "source": [
    "# Lets get a list of the top 10 feature indices based on Mutual Info Stat feature scores\n",
    "top_mis = fs.scores_.argsort()[-10:][::-1]"
   ]
  },
  {
   "cell_type": "code",
   "execution_count": 50,
   "id": "c33dc4f2",
   "metadata": {},
   "outputs": [],
   "source": [
    "# rank using chi_sq\n",
    "X_fs, fs = select_features(X_inp, y, chi2)"
   ]
  },
  {
   "cell_type": "code",
   "execution_count": 51,
   "id": "313c6906",
   "metadata": {},
   "outputs": [
    {
     "name": "stdout",
     "output_type": "stream",
     "text": [
      "Feature size: 31.124771\n",
      "Feature created_at_day: 104.149947\n",
      "Feature created_at_month: 3.512568\n",
      "Feature created_at_weekday: 16.701632\n",
      "Feature created_at_hour: 45.678776\n"
     ]
    }
   ],
   "source": [
    "for i in range(len(fs.scores_)):\n",
    "    print(\"Feature %s: %f\" % (X_inp.columns[i], fs.scores_[i]))"
   ]
  },
  {
   "cell_type": "code",
   "execution_count": 52,
   "id": "460daed6",
   "metadata": {},
   "outputs": [
    {
     "data": {
      "image/png": "[encoded data removed]",
      "text/plain": [
       "<Figure size 432x288 with 1 Axes>"
      ]
     },
     "metadata": {
      "needs_background": "light"
     },
     "output_type": "display_data"
    }
   ],
   "source": [
    "# visualize scores of all features\n",
    "sns.barplot(x=X_inp.columns, y=fs.scores_)\n",
    "plt.title(\"Feature importance scores for Chi Squared\")\n",
    "plt.xticks(rotation=60)\n",
    "plt.xlabel(\"Features\")\n",
    "plt.ylabel(\"Scores\")\n",
    "plt.show()"
   ]
  },
  {
   "cell_type": "code",
   "execution_count": 53,
   "id": "9874b4b4",
   "metadata": {},
   "outputs": [],
   "source": [
    "# Lets get a list of the top 10 feature indices based on Chi Sq feature scores\n",
    "top_chi2 = fs.scores_.argsort()[-10:][::-1]"
   ]
  },
  {
   "cell_type": "markdown",
   "id": "5861b291",
   "metadata": {},
   "source": [
    "Let's get a Union of the top 10 features derived from features based on both scores of both Mutual Info Statistic and Chi Squared"
   ]
  },
  {
   "cell_type": "code",
   "execution_count": 54,
   "id": "fae59295",
   "metadata": {},
   "outputs": [
    {
     "name": "stdout",
     "output_type": "stream",
     "text": [
      "5\n"
     ]
    },
    {
     "data": {
      "text/plain": [
       "{0, 1, 2, 3, 4}"
      ]
     },
     "execution_count": 54,
     "metadata": {},
     "output_type": "execute_result"
    }
   ],
   "source": [
    "union = set(top_mis).union(set(top_chi2))\n",
    "print(len(union))\n",
    "union"
   ]
  },
  {
   "cell_type": "code",
   "execution_count": 55,
   "id": "4778b695-9ec8-4d9f-a1dd-26d749b43a95",
   "metadata": {},
   "outputs": [
    {
     "data": {
      "text/plain": [
       "['size',\n",
       " 'created_at_day',\n",
       " 'created_at_month',\n",
       " 'created_at_weekday',\n",
       " 'created_at_hour']"
      ]
     },
     "execution_count": 55,
     "metadata": {},
     "output_type": "execute_result"
    }
   ],
   "source": [
    "selected_cat_features = [cat_features[i] for i in union]\n",
    "selected_cat_features"
   ]
  },
  {
   "cell_type": "code",
   "execution_count": 56,
   "id": "5b0ce173",
   "metadata": {},
   "outputs": [],
   "source": [
    "# update list of features to keep for training\n",
    "selected_features += selected_cat_features"
   ]
  },
  {
   "cell_type": "markdown",
   "id": "33f4387d",
   "metadata": {},
   "source": [
    "### Numerical Features\n",
    "\n",
    "Now, lets try to determine what numerical featuers are powerful influencers for time to merge of a PR"
   ]
  },
  {
   "cell_type": "code",
   "execution_count": 57,
   "id": "29683916-4ef7-474a-80ac-11a5d210b6fa",
   "metadata": {},
   "outputs": [],
   "source": [
    "numerical_features = [\n",
    "    \"changed_files_number\",\n",
    "    \"body_size\",\n",
    "    \"commits_number\",\n",
    "    \"ttm_class\",\n",
    "]"
   ]
  },
  {
   "cell_type": "code",
   "execution_count": 58,
   "id": "b0d608dd",
   "metadata": {},
   "outputs": [
    {
     "data": {
      "text/html": [
       "<div>\n",
       "<style scoped>\n",
       "    .dataframe tbody tr th:only-of-type {\n",
       "        vertical-align: middle;\n",
       "    }\n",
       "\n",
       "    .dataframe tbody tr th {\n",
       "        vertical-align: top;\n",
       "    }\n",
       "\n",
       "    .dataframe thead th {\n",
       "        text-align: right;\n",
       "    }\n",
       "</style>\n",
       "<table border=\"1\" class=\"dataframe\">\n",
       "  <thead>\n",
       "    <tr style=\"text-align: right;\">\n",
       "      <th></th>\n",
       "      <th>changed_files_number</th>\n",
       "      <th>body_size</th>\n",
       "      <th>commits_number</th>\n",
       "      <th>ttm_class</th>\n",
       "    </tr>\n",
       "  </thead>\n",
       "  <tbody>\n",
       "    <tr>\n",
       "      <th>0</th>\n",
       "      <td>1</td>\n",
       "      <td>17</td>\n",
       "      <td>1</td>\n",
       "      <td>4</td>\n",
       "    </tr>\n",
       "    <tr>\n",
       "      <th>1</th>\n",
       "      <td>1</td>\n",
       "      <td>17</td>\n",
       "      <td>1</td>\n",
       "      <td>3</td>\n",
       "    </tr>\n",
       "    <tr>\n",
       "      <th>2</th>\n",
       "      <td>25</td>\n",
       "      <td>84</td>\n",
       "      <td>11</td>\n",
       "      <td>9</td>\n",
       "    </tr>\n",
       "    <tr>\n",
       "      <th>3</th>\n",
       "      <td>2</td>\n",
       "      <td>17</td>\n",
       "      <td>7</td>\n",
       "      <td>9</td>\n",
       "    </tr>\n",
       "    <tr>\n",
       "      <th>4</th>\n",
       "      <td>1</td>\n",
       "      <td>4</td>\n",
       "      <td>1</td>\n",
       "      <td>5</td>\n",
       "    </tr>\n",
       "  </tbody>\n",
       "</table>\n",
       "</div>"
      ],
      "text/plain": [
       "   changed_files_number  body_size  commits_number  ttm_class\n",
       "0                     1         17               1          4\n",
       "1                     1         17               1          3\n",
       "2                    25         84              11          9\n",
       "3                     2         17               7          9\n",
       "4                     1          4               1          5"
      ]
     },
     "execution_count": 58,
     "metadata": {},
     "output_type": "execute_result"
    }
   ],
   "source": [
    "numerical_df = feature_df[numerical_features]\n",
    "numerical_df.head()"
   ]
  },
  {
   "cell_type": "code",
   "execution_count": 59,
   "id": "9ff2919e",
   "metadata": {},
   "outputs": [],
   "source": [
    "# split into input features and target\n",
    "X_inp = numerical_df.drop(columns=[\"ttm_class\"])\n",
    "y = numerical_df[\"ttm_class\"]"
   ]
  },
  {
   "cell_type": "code",
   "execution_count": 60,
   "id": "cc733746",
   "metadata": {
    "tags": []
   },
   "outputs": [
    {
     "data": {
      "image/png": "[encoded data removed]",
      "text/plain": [
       "<Figure size 432x288 with 1 Axes>"
      ]
     },
     "metadata": {
      "needs_background": "light"
     },
     "output_type": "display_data"
    }
   ],
   "source": [
    "# create k best feature selector object based on mutual information\n",
    "numerical_feats_mi, k_best_selector_mi = select_features(\n",
    "    X_inp,\n",
    "    y,\n",
    "    partial(\n",
    "        mutual_info_classif,\n",
    "        discrete_features=False,\n",
    "        random_state=42,\n",
    "        n_neighbors=3,\n",
    "    ),\n",
    ")\n",
    "\n",
    "# visualize the MI scores of all features\n",
    "sns.barplot(x=X_inp.columns, y=k_best_selector_mi.scores_)\n",
    "plt.title(\"Feature importance based on Mutual Information\")\n",
    "plt.xticks(rotation=60)\n",
    "plt.xlabel(\"Features\")\n",
    "plt.ylabel(\"Scores\")\n",
    "plt.show()"
   ]
  },
  {
   "cell_type": "code",
   "execution_count": 61,
   "id": "7bdf2192",
   "metadata": {},
   "outputs": [
    {
     "data": {
      "image/png": "[encoded data removed]",
      "text/plain": [
       "<Figure size 432x288 with 2 Axes>"
      ]
     },
     "metadata": {
      "needs_background": "light"
     },
     "output_type": "display_data"
    }
   ],
   "source": [
    "# create k best feature selector object based on anova f statistic\n",
    "numerical_feats_f, k_best_selector_f = select_features(\n",
    "    X_inp,\n",
    "    y,\n",
    "    f_classif,\n",
    ")\n",
    "\n",
    "# visualize the f stat scores and pvalues of all features\n",
    "fig, axes = plt.subplots(2, 1, sharex=True)\n",
    "fig.suptitle(\"Feature importance based on ANOVA F stat\")\n",
    "sns.barplot(x=X_inp.columns, y=k_best_selector_f.scores_, ax=axes[0])\n",
    "sns.barplot(x=X_inp.columns, y=k_best_selector_f.pvalues_, ax=axes[1])\n",
    "plt.xticks(rotation=60)\n",
    "plt.xlabel(\"Features\")\n",
    "axes[0].set_ylabel(\"Scores\")\n",
    "axes[1].set_ylabel(\"p-values\")\n",
    "plt.show()"
   ]
  },
  {
   "cell_type": "code",
   "execution_count": 62,
   "id": "6134ddb1-994f-42ee-8a68-7111540b6481",
   "metadata": {},
   "outputs": [
    {
     "data": {
      "text/plain": [
       "{0, 1, 2}"
      ]
     },
     "execution_count": 62,
     "metadata": {},
     "output_type": "execute_result"
    }
   ],
   "source": [
    "top_mi = k_best_selector_mi.scores_.argsort()[-3:][::-1]\n",
    "top_anova = k_best_selector_f.scores_.argsort()[-3:][::-1]\n",
    "union = set(top_mi).union(set(top_anova))\n",
    "union"
   ]
  },
  {
   "cell_type": "code",
   "execution_count": 63,
   "id": "2d5a9368-bfaf-4348-b140-13e6d725f59c",
   "metadata": {},
   "outputs": [
    {
     "data": {
      "text/plain": [
       "['changed_files_number', 'body_size', 'commits_number']"
      ]
     },
     "execution_count": 63,
     "metadata": {},
     "output_type": "execute_result"
    }
   ],
   "source": [
    "selected_num_features = [numerical_features[i] for i in union]\n",
    "selected_num_features"
   ]
  },
  {
   "cell_type": "code",
   "execution_count": 64,
   "id": "cc984a01",
   "metadata": {},
   "outputs": [],
   "source": [
    "# update list of features to keep for training\n",
    "selected_features += selected_num_features"
   ]
  },
  {
   "cell_type": "markdown",
   "id": "11a86b36",
   "metadata": {},
   "source": [
    "### Count Vector Type Features\n",
    "\n",
    "Finally, lets determine the most important features from the count vector type columns."
   ]
  },
  {
   "cell_type": "code",
   "execution_count": 65,
   "id": "f07d0334",
   "metadata": {
    "scrolled": true
   },
   "outputs": [],
   "source": [
    "# explode the list column so that there is 1 column representing frequency of each file type\n",
    "filetype_df = pd.DataFrame(feature_df.changed_file_type_vec.to_list())\n",
    "filetype_df.index = feature_df.index\n",
    "filetype_df.columns = [f\"filetype_{f}\" for f in top_fileextensions]"
   ]
  },
  {
   "cell_type": "code",
   "execution_count": 66,
   "id": "35f93d4e",
   "metadata": {},
   "outputs": [
    {
     "data": {
      "text/plain": [
       "filetype_.go              0.495223\n",
       "filetype_Makefile         0.349703\n",
       "filetype_.lock            0.242142\n",
       "filetype_.json            0.236450\n",
       "filetype_.mod             0.225989\n",
       "filetype_.sum             0.210781\n",
       "filetype_.ts              0.206754\n",
       "filetype_.md              0.196041\n",
       "filetype_None             0.187884\n",
       "filetype_.png             0.169856\n",
       "filetype_.eslintrc        0.169856\n",
       "filetype_.eslintignore    0.169856\n",
       "filetype_.js              0.169856\n",
       "filetype_.gitignore       0.169856\n",
       "filetype_.graphql         0.169856\n",
       "filetype_LICENSE          0.127225\n",
       "filetype_.txt             0.120596\n",
       "filetype_.ipynb           0.104730\n",
       "filetype_Dockerfile      -0.000950\n",
       "filetype_.yaml           -0.045776\n",
       "dtype: float64"
      ]
     },
     "execution_count": 66,
     "metadata": {},
     "output_type": "execute_result"
    }
   ],
   "source": [
    "# compute correlation with ttm\n",
    "corr = filetype_df.corrwith(feature_df[\"ttm_class\"])\n",
    "corr.sort_values(ascending=False)"
   ]
  },
  {
   "cell_type": "code",
   "execution_count": 67,
   "id": "d5ae2981",
   "metadata": {},
   "outputs": [
    {
     "data": {
      "text/plain": [
       "filetype_.go              0.495223\n",
       "filetype_.yaml           -0.045776\n",
       "filetype_.md              0.196041\n",
       "filetype_None             0.187884\n",
       "filetype_.mod             0.225989\n",
       "filetype_.sum             0.210781\n",
       "filetype_Makefile         0.349703\n",
       "filetype_.json            0.236450\n",
       "filetype_.ts              0.206754\n",
       "filetype_.ipynb           0.104730\n",
       "filetype_.graphql         0.169856\n",
       "filetype_.lock            0.242142\n",
       "filetype_.txt             0.120596\n",
       "filetype_.png             0.169856\n",
       "filetype_LICENSE          0.127225\n",
       "filetype_.js              0.169856\n",
       "filetype_.eslintignore    0.169856\n",
       "filetype_.eslintrc        0.169856\n",
       "filetype_.gitignore       0.169856\n",
       "dtype: float64"
      ]
     },
     "execution_count": 67,
     "metadata": {},
     "output_type": "execute_result"
    }
   ],
   "source": [
    "corr[corr.abs() > 0.01]"
   ]
  },
  {
   "cell_type": "code",
   "execution_count": 68,
   "id": "9d5e19bd",
   "metadata": {},
   "outputs": [],
   "source": [
    "# update list of features to keep for training\n",
    "# take everything that has more than 0.01 correlation magnitude\n",
    "filetype_keep_cols = corr[corr.abs() > 0.01].index.tolist()\n",
    "selected_features += filetype_keep_cols\n",
    "\n",
    "# only keep the relevant columns now\n",
    "filetype_df = filetype_df[filetype_keep_cols]"
   ]
  },
  {
   "cell_type": "code",
   "execution_count": 69,
   "id": "2eab2fb8-ee9e-4a4e-9d2e-7629f9c56cb9",
   "metadata": {},
   "outputs": [
    {
     "data": {
      "text/plain": [
       "['.go',\n",
       " '.yaml',\n",
       " '.md',\n",
       " 'None',\n",
       " '.mod',\n",
       " '.sum',\n",
       " 'Makefile',\n",
       " '.json',\n",
       " '.ts',\n",
       " '.ipynb',\n",
       " '.graphql',\n",
       " '.lock',\n",
       " '.txt',\n",
       " '.png',\n",
       " 'LICENSE',\n",
       " '.js',\n",
       " '.eslintignore',\n",
       " '.eslintrc',\n",
       " '.gitignore']"
      ]
     },
     "execution_count": 69,
     "metadata": {},
     "output_type": "execute_result"
    }
   ],
   "source": [
    "filetype_keep_cols = [i[9:] for i in filetype_keep_cols]\n",
    "filetype_keep_cols"
   ]
  },
  {
   "cell_type": "code",
   "execution_count": 70,
   "id": "2b2da9ab-de61-44f5-91f1-a897e8f7a962",
   "metadata": {},
   "outputs": [],
   "source": [
    "filetype_keep_cols_df = pd.DataFrame(filetype_keep_cols, columns=[\"filetype\"])"
   ]
  },
  {
   "cell_type": "code",
   "execution_count": 71,
   "id": "773682ad-cda8-42ec-9275-dc611004d913",
   "metadata": {},
   "outputs": [
    {
     "data": {
      "text/html": [
       "<div>\n",
       "<style scoped>\n",
       "    .dataframe tbody tr th:only-of-type {\n",
       "        vertical-align: middle;\n",
       "    }\n",
       "\n",
       "    .dataframe tbody tr th {\n",
       "        vertical-align: top;\n",
       "    }\n",
       "\n",
       "    .dataframe thead th {\n",
       "        text-align: right;\n",
       "    }\n",
       "</style>\n",
       "<table border=\"1\" class=\"dataframe\">\n",
       "  <thead>\n",
       "    <tr style=\"text-align: right;\">\n",
       "      <th></th>\n",
       "      <th>filetype</th>\n",
       "    </tr>\n",
       "  </thead>\n",
       "  <tbody>\n",
       "    <tr>\n",
       "      <th>0</th>\n",
       "      <td>.go</td>\n",
       "    </tr>\n",
       "    <tr>\n",
       "      <th>1</th>\n",
       "      <td>.yaml</td>\n",
       "    </tr>\n",
       "    <tr>\n",
       "      <th>2</th>\n",
       "      <td>.md</td>\n",
       "    </tr>\n",
       "    <tr>\n",
       "      <th>3</th>\n",
       "      <td>None</td>\n",
       "    </tr>\n",
       "    <tr>\n",
       "      <th>4</th>\n",
       "      <td>.mod</td>\n",
       "    </tr>\n",
       "    <tr>\n",
       "      <th>5</th>\n",
       "      <td>.sum</td>\n",
       "    </tr>\n",
       "    <tr>\n",
       "      <th>6</th>\n",
       "      <td>Makefile</td>\n",
       "    </tr>\n",
       "    <tr>\n",
       "      <th>7</th>\n",
       "      <td>.json</td>\n",
       "    </tr>\n",
       "    <tr>\n",
       "      <th>8</th>\n",
       "      <td>.ts</td>\n",
       "    </tr>\n",
       "    <tr>\n",
       "      <th>9</th>\n",
       "      <td>.ipynb</td>\n",
       "    </tr>\n",
       "    <tr>\n",
       "      <th>10</th>\n",
       "      <td>.graphql</td>\n",
       "    </tr>\n",
       "    <tr>\n",
       "      <th>11</th>\n",
       "      <td>.lock</td>\n",
       "    </tr>\n",
       "    <tr>\n",
       "      <th>12</th>\n",
       "      <td>.txt</td>\n",
       "    </tr>\n",
       "    <tr>\n",
       "      <th>13</th>\n",
       "      <td>.png</td>\n",
       "    </tr>\n",
       "    <tr>\n",
       "      <th>14</th>\n",
       "      <td>LICENSE</td>\n",
       "    </tr>\n",
       "    <tr>\n",
       "      <th>15</th>\n",
       "      <td>.js</td>\n",
       "    </tr>\n",
       "    <tr>\n",
       "      <th>16</th>\n",
       "      <td>.eslintignore</td>\n",
       "    </tr>\n",
       "    <tr>\n",
       "      <th>17</th>\n",
       "      <td>.eslintrc</td>\n",
       "    </tr>\n",
       "    <tr>\n",
       "      <th>18</th>\n",
       "      <td>.gitignore</td>\n",
       "    </tr>\n",
       "  </tbody>\n",
       "</table>\n",
       "</div>"
      ],
      "text/plain": [
       "         filetype\n",
       "0             .go\n",
       "1           .yaml\n",
       "2             .md\n",
       "3            None\n",
       "4            .mod\n",
       "5            .sum\n",
       "6        Makefile\n",
       "7           .json\n",
       "8             .ts\n",
       "9          .ipynb\n",
       "10       .graphql\n",
       "11          .lock\n",
       "12           .txt\n",
       "13           .png\n",
       "14        LICENSE\n",
       "15            .js\n",
       "16  .eslintignore\n",
       "17      .eslintrc\n",
       "18     .gitignore"
      ]
     },
     "execution_count": 71,
     "metadata": {},
     "output_type": "execute_result"
    }
   ],
   "source": [
    "filetype_keep_cols_df"
   ]
  },
  {
   "cell_type": "code",
   "execution_count": 72,
   "id": "7333e449-4e2a-42aa-b728-3f36d205ed1f",
   "metadata": {},
   "outputs": [
    {
     "data": {
      "text/plain": [
       "{'ResponseMetadata': {'RequestId': 'lacz42rj-bkcg30-hdx',\n",
       "  'HostId': 'lacz42rj-bkcg30-hdx',\n",
       "  'HTTPStatusCode': 200,\n",
       "  'HTTPHeaders': {'x-amz-request-id': 'lacz42rj-bkcg30-hdx',\n",
       "   'x-amz-id-2': 'lacz42rj-bkcg30-hdx',\n",
       "   'access-control-allow-origin': '*',\n",
       "   'access-control-allow-credentials': 'true',\n",
       "   'access-control-allow-methods': 'GET,POST,PUT,DELETE,OPTIONS',\n",
       "   'access-control-allow-headers': 'Content-Type,Content-MD5,Authorization,X-Amz-User-Agent,X-Amz-Date,ETag,X-Amz-Content-Sha256',\n",
       "   'access-control-expose-headers': 'ETag,X-Amz-Version-Id',\n",
       "   'etag': '\"4eaa69f861948fa33c47d090804b4e72\"',\n",
       "   'date': 'Fri, 11 Nov 2022 20:50:40 GMT',\n",
       "   'keep-alive': 'timeout=5',\n",
       "   'content-length': '0',\n",
       "   'set-cookie': '1a4aa612fe797ac8466d7ee00e5520d5=a26d7dd2bae782e2ad6181b7887b5ff1; path=/; HttpOnly; Secure; SameSite=None'},\n",
       "  'RetryAttempts': 0},\n",
       " 'ETag': '\"4eaa69f861948fa33c47d090804b4e72\"'}"
      ]
     },
     "execution_count": 72,
     "metadata": {},
     "output_type": "execute_result"
    }
   ],
   "source": [
    "FILETYPE_FEATURES_FILENAME = os.path.join(ORG + REPO + \"FILETYPE.parquet\")\n",
    "FILETYPE_FEATURES_KEY = os.path.join(s3_input_data_path, ORG, REPO, \"features\")\n",
    "cc.upload_to_ceph(\n",
    "    filetype_keep_cols_df, FILETYPE_FEATURES_KEY, FILETYPE_FEATURES_FILENAME\n",
    ")"
   ]
  },
  {
   "cell_type": "code",
   "execution_count": 73,
   "id": "618842b5",
   "metadata": {},
   "outputs": [],
   "source": [
    "# explode the list column so that there is 1 column representing frequency of each word\n",
    "title_wordcount_df = pd.DataFrame(feature_df.title_word_counts_vec.to_list())\n",
    "\n",
    "title_wordcount_df.index = feature_df.index\n",
    "title_wordcount_df.columns = [f\"title_wordcount_{w}\" for w in unique_words]"
   ]
  },
  {
   "cell_type": "code",
   "execution_count": 74,
   "id": "457f28ed",
   "metadata": {
    "scrolled": true
   },
   "outputs": [
    {
     "data": {
      "text/plain": [
       "title_wordcount_adds             0.353071\n",
       "title_wordcount_create           0.274269\n",
       "title_wordcount_test             0.242142\n",
       "title_wordcount_functionality    0.242142\n",
       "title_wordcount_branch           0.242142\n",
       "                                   ...   \n",
       "title_wordcount_extracting      -0.213818\n",
       "title_wordcount_script          -0.226289\n",
       "title_wordcount_debugging       -0.304814\n",
       "title_wordcount_fix             -0.432382\n",
       "title_wordcount_bot             -0.625754\n",
       "Length: 171, dtype: float64"
      ]
     },
     "execution_count": 74,
     "metadata": {},
     "output_type": "execute_result"
    }
   ],
   "source": [
    "# compute correlation with ttm\n",
    "corr = title_wordcount_df.corrwith(feature_df[\"ttm_class\"])\n",
    "corr = corr.dropna()\n",
    "corr.sort_values(ascending=False)"
   ]
  },
  {
   "cell_type": "code",
   "execution_count": 75,
   "id": "0f1495a6",
   "metadata": {},
   "outputs": [
    {
     "data": {
      "text/plain": [
       "title_wordcount_<djachimo@redhat    0.169856\n",
       "title_wordcount_@tagname           -0.043297\n",
       "title_wordcount_actually           -0.043297\n",
       "title_wordcount_adds                0.353071\n",
       "title_wordcount_ai                  0.181369\n",
       "                                      ...   \n",
       "title_wordcount_v1                  0.084595\n",
       "title_wordcount_workflow            0.098879\n",
       "title_wordcount_write              -0.128557\n",
       "title_wordcount_writestring        -0.043297\n",
       "title_wordcount_yaml                0.084595\n",
       "Length: 147, dtype: float64"
      ]
     },
     "execution_count": 75,
     "metadata": {},
     "output_type": "execute_result"
    }
   ],
   "source": [
    "corr[corr.abs() > 0.04]"
   ]
  },
  {
   "cell_type": "code",
   "execution_count": 76,
   "id": "624b3504",
   "metadata": {},
   "outputs": [],
   "source": [
    "# update list of features to keep for training\n",
    "# take everything that has more than 0.01 correlation magnitude\n",
    "title_word_keep_cols = corr[corr.abs() > 0.04].index.tolist()\n",
    "selected_features += title_word_keep_cols\n",
    "\n",
    "title_wordcount_df = title_wordcount_df[title_word_keep_cols]"
   ]
  },
  {
   "cell_type": "code",
   "execution_count": 77,
   "id": "45cd6a78-361c-444f-8065-4127f2e29313",
   "metadata": {},
   "outputs": [
    {
     "data": {
      "text/plain": [
       "['<djachimo@redhat',\n",
       " '@tagname',\n",
       " 'actually',\n",
       " 'adds',\n",
       " 'ai',\n",
       " 'another',\n",
       " 'api',\n",
       " 'artifacts',\n",
       " 'attempt',\n",
       " 'bash',\n",
       " 'bigmodel',\n",
       " 'binaries',\n",
       " 'binary',\n",
       " 'bloom',\n",
       " 'bot',\n",
       " 'branch',\n",
       " 'branding',\n",
       " 'breaks',\n",
       " 'bug',\n",
       " 'builds',\n",
       " 'cache',\n",
       " 'catch',\n",
       " 'changes',\n",
       " 'ci',\n",
       " 'cli',\n",
       " 'client',\n",
       " 'clt',\n",
       " 'com>',\n",
       " 'command',\n",
       " 'completions',\n",
       " 'condition',\n",
       " 'config',\n",
       " 'contents',\n",
       " 'copilot',\n",
       " 'create',\n",
       " 'createcomment',\n",
       " 'createopenaiclient',\n",
       " 'credentials',\n",
       " 'debugging',\n",
       " 'decoding',\n",
       " 'default',\n",
       " 'delimiter',\n",
       " 'distinct',\n",
       " 'djach7',\n",
       " 'document',\n",
       " 'eleuther',\n",
       " 'encoding',\n",
       " 'env',\n",
       " 'envs',\n",
       " 'error',\n",
       " 'example',\n",
       " 'exitcode',\n",
       " 'extracting',\n",
       " 'file',\n",
       " 'files',\n",
       " 'fileset',\n",
       " 'fix',\n",
       " 'fixes',\n",
       " 'flag',\n",
       " 'flow',\n",
       " 'fmt',\n",
       " 'formatting',\n",
       " 'frequently',\n",
       " 'functionality',\n",
       " 'ginkgo',\n",
       " 'github',\n",
       " 'golangci',\n",
       " 'gpt',\n",
       " 'gpt3',\n",
       " 'guy',\n",
       " 'impl',\n",
       " 'implementation',\n",
       " 'implements',\n",
       " 'improves',\n",
       " 'included',\n",
       " 'inserting',\n",
       " 'instead',\n",
       " 'issues',\n",
       " 'j',\n",
       " 'javascript',\n",
       " 'json',\n",
       " 'jupyter',\n",
       " 'lint',\n",
       " 'logging',\n",
       " 'make',\n",
       " 'makefile',\n",
       " 'max',\n",
       " 'md',\n",
       " 'methods',\n",
       " 'model',\n",
       " 'models',\n",
       " 'modify',\n",
       " 'mods',\n",
       " 'name',\n",
       " 'notebook',\n",
       " 'now',\n",
       " 'number',\n",
       " 'oops',\n",
       " 'operator',\n",
       " 'ops',\n",
       " 'os',\n",
       " 'output',\n",
       " 'outputs',\n",
       " 'package',\n",
       " 'parameter',\n",
       " 'parse',\n",
       " 'pass',\n",
       " 'patch',\n",
       " 'prebuilt',\n",
       " 'printf',\n",
       " 'pull',\n",
       " 'readme',\n",
       " 'reply',\n",
       " 'repository',\n",
       " 'responses',\n",
       " 'reworks',\n",
       " 'run',\n",
       " 'running',\n",
       " 's',\n",
       " 'script',\n",
       " 'secrets',\n",
       " 'set',\n",
       " 'shell',\n",
       " 'signed',\n",
       " 'simple',\n",
       " 'skeleton',\n",
       " 'skip',\n",
       " 'stderr',\n",
       " 'stdout',\n",
       " 'test',\n",
       " 'tests',\n",
       " 'tokens',\n",
       " 'touch',\n",
       " 'try',\n",
       " 'trying',\n",
       " 'typescript',\n",
       " 'update',\n",
       " 'updates',\n",
       " 'upgrades',\n",
       " 'upload',\n",
       " 'upstream',\n",
       " 'use',\n",
       " 'v1',\n",
       " 'workflow',\n",
       " 'write',\n",
       " 'writestring',\n",
       " 'yaml']"
      ]
     },
     "execution_count": 77,
     "metadata": {},
     "output_type": "execute_result"
    }
   ],
   "source": [
    "title_word_keep_cols = [i[16:] for i in title_word_keep_cols]\n",
    "title_word_keep_cols"
   ]
  },
  {
   "cell_type": "code",
   "execution_count": 78,
   "id": "8b937135-f983-4d6c-961e-f9c7158d108c",
   "metadata": {},
   "outputs": [],
   "source": [
    "title_word_keep_cols_df = pd.DataFrame(title_word_keep_cols, columns=[\"title\"])"
   ]
  },
  {
   "cell_type": "code",
   "execution_count": 79,
   "id": "63f382a4-5826-4d65-aa9f-5f3b56f1aad9",
   "metadata": {},
   "outputs": [
    {
     "data": {
      "text/html": [
       "<div>\n",
       "<style scoped>\n",
       "    .dataframe tbody tr th:only-of-type {\n",
       "        vertical-align: middle;\n",
       "    }\n",
       "\n",
       "    .dataframe tbody tr th {\n",
       "        vertical-align: top;\n",
       "    }\n",
       "\n",
       "    .dataframe thead th {\n",
       "        text-align: right;\n",
       "    }\n",
       "</style>\n",
       "<table border=\"1\" class=\"dataframe\">\n",
       "  <thead>\n",
       "    <tr style=\"text-align: right;\">\n",
       "      <th></th>\n",
       "      <th>title</th>\n",
       "    </tr>\n",
       "  </thead>\n",
       "  <tbody>\n",
       "    <tr>\n",
       "      <th>0</th>\n",
       "      <td>&lt;djachimo@redhat</td>\n",
       "    </tr>\n",
       "    <tr>\n",
       "      <th>1</th>\n",
       "      <td>@tagname</td>\n",
       "    </tr>\n",
       "    <tr>\n",
       "      <th>2</th>\n",
       "      <td>actually</td>\n",
       "    </tr>\n",
       "    <tr>\n",
       "      <th>3</th>\n",
       "      <td>adds</td>\n",
       "    </tr>\n",
       "    <tr>\n",
       "      <th>4</th>\n",
       "      <td>ai</td>\n",
       "    </tr>\n",
       "    <tr>\n",
       "      <th>...</th>\n",
       "      <td>...</td>\n",
       "    </tr>\n",
       "    <tr>\n",
       "      <th>142</th>\n",
       "      <td>v1</td>\n",
       "    </tr>\n",
       "    <tr>\n",
       "      <th>143</th>\n",
       "      <td>workflow</td>\n",
       "    </tr>\n",
       "    <tr>\n",
       "      <th>144</th>\n",
       "      <td>write</td>\n",
       "    </tr>\n",
       "    <tr>\n",
       "      <th>145</th>\n",
       "      <td>writestring</td>\n",
       "    </tr>\n",
       "    <tr>\n",
       "      <th>146</th>\n",
       "      <td>yaml</td>\n",
       "    </tr>\n",
       "  </tbody>\n",
       "</table>\n",
       "<p>147 rows × 1 columns</p>\n",
       "</div>"
      ],
      "text/plain": [
       "                title\n",
       "0    <djachimo@redhat\n",
       "1            @tagname\n",
       "2            actually\n",
       "3                adds\n",
       "4                  ai\n",
       "..                ...\n",
       "142                v1\n",
       "143          workflow\n",
       "144             write\n",
       "145       writestring\n",
       "146              yaml\n",
       "\n",
       "[147 rows x 1 columns]"
      ]
     },
     "execution_count": 79,
     "metadata": {},
     "output_type": "execute_result"
    }
   ],
   "source": [
    "title_word_keep_cols_df"
   ]
  },
  {
   "cell_type": "code",
   "execution_count": 80,
   "id": "2c67ed79-0555-4f0d-9557-3e6d335baeac",
   "metadata": {},
   "outputs": [
    {
     "data": {
      "text/plain": [
       "{'ResponseMetadata': {'RequestId': 'lacz43gr-a1fs93-v4z',\n",
       "  'HostId': 'lacz43gr-a1fs93-v4z',\n",
       "  'HTTPStatusCode': 200,\n",
       "  'HTTPHeaders': {'x-amz-request-id': 'lacz43gr-a1fs93-v4z',\n",
       "   'x-amz-id-2': 'lacz43gr-a1fs93-v4z',\n",
       "   'access-control-allow-origin': '*',\n",
       "   'access-control-allow-credentials': 'true',\n",
       "   'access-control-allow-methods': 'GET,POST,PUT,DELETE,OPTIONS',\n",
       "   'access-control-allow-headers': 'Content-Type,Content-MD5,Authorization,X-Amz-User-Agent,X-Amz-Date,ETag,X-Amz-Content-Sha256',\n",
       "   'access-control-expose-headers': 'ETag,X-Amz-Version-Id',\n",
       "   'etag': '\"549f40849c5f53d6528710ed106dde87\"',\n",
       "   'date': 'Fri, 11 Nov 2022 20:50:41 GMT',\n",
       "   'keep-alive': 'timeout=5',\n",
       "   'content-length': '0',\n",
       "   'set-cookie': '1a4aa612fe797ac8466d7ee00e5520d5=a26d7dd2bae782e2ad6181b7887b5ff1; path=/; HttpOnly; Secure; SameSite=None'},\n",
       "  'RetryAttempts': 0},\n",
       " 'ETag': '\"549f40849c5f53d6528710ed106dde87\"'}"
      ]
     },
     "execution_count": 80,
     "metadata": {},
     "output_type": "execute_result"
    }
   ],
   "source": [
    "TITLE_FEATURES_FILENAME = os.path.join(ORG + REPO + \"titlewords.parquet\")\n",
    "TITLE_FEATURES_KEY = os.path.join(s3_input_data_path, ORG, REPO, \"features\")\n",
    "cc.upload_to_ceph(title_word_keep_cols_df, TITLE_FEATURES_KEY, TITLE_FEATURES_FILENAME)"
   ]
  },
  {
   "cell_type": "markdown",
   "id": "105e4b18",
   "metadata": {},
   "source": [
    "Using various feature importance scores such as chi-squared, mutual information statistic, correlation values, we have selected the most relevant features amongst all of our features. "
   ]
  },
  {
   "cell_type": "code",
   "execution_count": 81,
   "id": "4cdafdae",
   "metadata": {
    "tags": []
   },
   "outputs": [
    {
     "data": {
      "text/plain": [
       "['size',\n",
       " 'created_at_day',\n",
       " 'created_at_month',\n",
       " 'created_at_weekday',\n",
       " 'created_at_hour',\n",
       " 'changed_files_number',\n",
       " 'body_size',\n",
       " 'commits_number',\n",
       " 'filetype_.go',\n",
       " 'filetype_.yaml',\n",
       " 'filetype_.md',\n",
       " 'filetype_None',\n",
       " 'filetype_.mod',\n",
       " 'filetype_.sum',\n",
       " 'filetype_Makefile',\n",
       " 'filetype_.json',\n",
       " 'filetype_.ts',\n",
       " 'filetype_.ipynb',\n",
       " 'filetype_.graphql',\n",
       " 'filetype_.lock',\n",
       " 'filetype_.txt',\n",
       " 'filetype_.png',\n",
       " 'filetype_LICENSE',\n",
       " 'filetype_.js',\n",
       " 'filetype_.eslintignore',\n",
       " 'filetype_.eslintrc',\n",
       " 'filetype_.gitignore',\n",
       " 'title_wordcount_<djachimo@redhat',\n",
       " 'title_wordcount_@tagname',\n",
       " 'title_wordcount_actually',\n",
       " 'title_wordcount_adds',\n",
       " 'title_wordcount_ai',\n",
       " 'title_wordcount_another',\n",
       " 'title_wordcount_api',\n",
       " 'title_wordcount_artifacts',\n",
       " 'title_wordcount_attempt',\n",
       " 'title_wordcount_bash',\n",
       " 'title_wordcount_bigmodel',\n",
       " 'title_wordcount_binaries',\n",
       " 'title_wordcount_binary',\n",
       " 'title_wordcount_bloom',\n",
       " 'title_wordcount_bot',\n",
       " 'title_wordcount_branch',\n",
       " 'title_wordcount_branding',\n",
       " 'title_wordcount_breaks',\n",
       " 'title_wordcount_bug',\n",
       " 'title_wordcount_builds',\n",
       " 'title_wordcount_cache',\n",
       " 'title_wordcount_catch',\n",
       " 'title_wordcount_changes',\n",
       " 'title_wordcount_ci',\n",
       " 'title_wordcount_cli',\n",
       " 'title_wordcount_client',\n",
       " 'title_wordcount_clt',\n",
       " 'title_wordcount_com>',\n",
       " 'title_wordcount_command',\n",
       " 'title_wordcount_completions',\n",
       " 'title_wordcount_condition',\n",
       " 'title_wordcount_config',\n",
       " 'title_wordcount_contents',\n",
       " 'title_wordcount_copilot',\n",
       " 'title_wordcount_create',\n",
       " 'title_wordcount_createcomment',\n",
       " 'title_wordcount_createopenaiclient',\n",
       " 'title_wordcount_credentials',\n",
       " 'title_wordcount_debugging',\n",
       " 'title_wordcount_decoding',\n",
       " 'title_wordcount_default',\n",
       " 'title_wordcount_delimiter',\n",
       " 'title_wordcount_distinct',\n",
       " 'title_wordcount_djach7',\n",
       " 'title_wordcount_document',\n",
       " 'title_wordcount_eleuther',\n",
       " 'title_wordcount_encoding',\n",
       " 'title_wordcount_env',\n",
       " 'title_wordcount_envs',\n",
       " 'title_wordcount_error',\n",
       " 'title_wordcount_example',\n",
       " 'title_wordcount_exitcode',\n",
       " 'title_wordcount_extracting',\n",
       " 'title_wordcount_file',\n",
       " 'title_wordcount_files',\n",
       " 'title_wordcount_fileset',\n",
       " 'title_wordcount_fix',\n",
       " 'title_wordcount_fixes',\n",
       " 'title_wordcount_flag',\n",
       " 'title_wordcount_flow',\n",
       " 'title_wordcount_fmt',\n",
       " 'title_wordcount_formatting',\n",
       " 'title_wordcount_frequently',\n",
       " 'title_wordcount_functionality',\n",
       " 'title_wordcount_ginkgo',\n",
       " 'title_wordcount_github',\n",
       " 'title_wordcount_golangci',\n",
       " 'title_wordcount_gpt',\n",
       " 'title_wordcount_gpt3',\n",
       " 'title_wordcount_guy',\n",
       " 'title_wordcount_impl',\n",
       " 'title_wordcount_implementation',\n",
       " 'title_wordcount_implements',\n",
       " 'title_wordcount_improves',\n",
       " 'title_wordcount_included',\n",
       " 'title_wordcount_inserting',\n",
       " 'title_wordcount_instead',\n",
       " 'title_wordcount_issues',\n",
       " 'title_wordcount_j',\n",
       " 'title_wordcount_javascript',\n",
       " 'title_wordcount_json',\n",
       " 'title_wordcount_jupyter',\n",
       " 'title_wordcount_lint',\n",
       " 'title_wordcount_logging',\n",
       " 'title_wordcount_make',\n",
       " 'title_wordcount_makefile',\n",
       " 'title_wordcount_max',\n",
       " 'title_wordcount_md',\n",
       " 'title_wordcount_methods',\n",
       " 'title_wordcount_model',\n",
       " 'title_wordcount_models',\n",
       " 'title_wordcount_modify',\n",
       " 'title_wordcount_mods',\n",
       " 'title_wordcount_name',\n",
       " 'title_wordcount_notebook',\n",
       " 'title_wordcount_now',\n",
       " 'title_wordcount_number',\n",
       " 'title_wordcount_oops',\n",
       " 'title_wordcount_operator',\n",
       " 'title_wordcount_ops',\n",
       " 'title_wordcount_os',\n",
       " 'title_wordcount_output',\n",
       " 'title_wordcount_outputs',\n",
       " 'title_wordcount_package',\n",
       " 'title_wordcount_parameter',\n",
       " 'title_wordcount_parse',\n",
       " 'title_wordcount_pass',\n",
       " 'title_wordcount_patch',\n",
       " 'title_wordcount_prebuilt',\n",
       " 'title_wordcount_printf',\n",
       " 'title_wordcount_pull',\n",
       " 'title_wordcount_readme',\n",
       " 'title_wordcount_reply',\n",
       " 'title_wordcount_repository',\n",
       " 'title_wordcount_responses',\n",
       " 'title_wordcount_reworks',\n",
       " 'title_wordcount_run',\n",
       " 'title_wordcount_running',\n",
       " 'title_wordcount_s',\n",
       " 'title_wordcount_script',\n",
       " 'title_wordcount_secrets',\n",
       " 'title_wordcount_set',\n",
       " 'title_wordcount_shell',\n",
       " 'title_wordcount_signed',\n",
       " 'title_wordcount_simple',\n",
       " 'title_wordcount_skeleton',\n",
       " 'title_wordcount_skip',\n",
       " 'title_wordcount_stderr',\n",
       " 'title_wordcount_stdout',\n",
       " 'title_wordcount_test',\n",
       " 'title_wordcount_tests',\n",
       " 'title_wordcount_tokens',\n",
       " 'title_wordcount_touch',\n",
       " 'title_wordcount_try',\n",
       " 'title_wordcount_trying',\n",
       " 'title_wordcount_typescript',\n",
       " 'title_wordcount_update',\n",
       " 'title_wordcount_updates',\n",
       " 'title_wordcount_upgrades',\n",
       " 'title_wordcount_upload',\n",
       " 'title_wordcount_upstream',\n",
       " 'title_wordcount_use',\n",
       " 'title_wordcount_v1',\n",
       " 'title_wordcount_workflow',\n",
       " 'title_wordcount_write',\n",
       " 'title_wordcount_writestring',\n",
       " 'title_wordcount_yaml']"
      ]
     },
     "execution_count": 81,
     "metadata": {},
     "output_type": "execute_result"
    }
   ],
   "source": [
    "selected_features"
   ]
  },
  {
   "cell_type": "markdown",
   "id": "ddda4924",
   "metadata": {},
   "source": [
    "## Save Feature Engineered Dataset"
   ]
  },
  {
   "cell_type": "code",
   "execution_count": 82,
   "id": "894941f7-9815-44af-867a-9e206502cd7a",
   "metadata": {},
   "outputs": [
    {
     "data": {
      "text/html": [
       "<div>\n",
       "<style scoped>\n",
       "    .dataframe tbody tr th:only-of-type {\n",
       "        vertical-align: middle;\n",
       "    }\n",
       "\n",
       "    .dataframe tbody tr th {\n",
       "        vertical-align: top;\n",
       "    }\n",
       "\n",
       "    .dataframe thead th {\n",
       "        text-align: right;\n",
       "    }\n",
       "</style>\n",
       "<table border=\"1\" class=\"dataframe\">\n",
       "  <thead>\n",
       "    <tr style=\"text-align: right;\">\n",
       "      <th></th>\n",
       "      <th>size</th>\n",
       "      <th>created_at_day</th>\n",
       "      <th>created_at_month</th>\n",
       "      <th>created_at_weekday</th>\n",
       "      <th>created_at_hour</th>\n",
       "      <th>changed_files_number</th>\n",
       "      <th>body_size</th>\n",
       "      <th>commits_number</th>\n",
       "      <th>filetype_.go</th>\n",
       "      <th>filetype_.yaml</th>\n",
       "      <th>...</th>\n",
       "      <th>title_wordcount_upload</th>\n",
       "      <th>title_wordcount_upstream</th>\n",
       "      <th>title_wordcount_use</th>\n",
       "      <th>title_wordcount_v1</th>\n",
       "      <th>title_wordcount_workflow</th>\n",
       "      <th>title_wordcount_write</th>\n",
       "      <th>title_wordcount_writestring</th>\n",
       "      <th>title_wordcount_yaml</th>\n",
       "      <th>ttm_class</th>\n",
       "      <th>time_to_merge</th>\n",
       "    </tr>\n",
       "  </thead>\n",
       "  <tbody>\n",
       "    <tr>\n",
       "      <th>0</th>\n",
       "      <td>0</td>\n",
       "      <td>4</td>\n",
       "      <td>11</td>\n",
       "      <td>4</td>\n",
       "      <td>19</td>\n",
       "      <td>1</td>\n",
       "      <td>17</td>\n",
       "      <td>1</td>\n",
       "      <td>1</td>\n",
       "      <td>0</td>\n",
       "      <td>...</td>\n",
       "      <td>0</td>\n",
       "      <td>0</td>\n",
       "      <td>1</td>\n",
       "      <td>0</td>\n",
       "      <td>0</td>\n",
       "      <td>0</td>\n",
       "      <td>1</td>\n",
       "      <td>0</td>\n",
       "      <td>4</td>\n",
       "      <td>106.0</td>\n",
       "    </tr>\n",
       "    <tr>\n",
       "      <th>1</th>\n",
       "      <td>0</td>\n",
       "      <td>4</td>\n",
       "      <td>11</td>\n",
       "      <td>4</td>\n",
       "      <td>19</td>\n",
       "      <td>1</td>\n",
       "      <td>17</td>\n",
       "      <td>1</td>\n",
       "      <td>1</td>\n",
       "      <td>0</td>\n",
       "      <td>...</td>\n",
       "      <td>0</td>\n",
       "      <td>0</td>\n",
       "      <td>0</td>\n",
       "      <td>0</td>\n",
       "      <td>0</td>\n",
       "      <td>0</td>\n",
       "      <td>0</td>\n",
       "      <td>0</td>\n",
       "      <td>3</td>\n",
       "      <td>27.0</td>\n",
       "    </tr>\n",
       "    <tr>\n",
       "      <th>2</th>\n",
       "      <td>4</td>\n",
       "      <td>13</td>\n",
       "      <td>9</td>\n",
       "      <td>1</td>\n",
       "      <td>14</td>\n",
       "      <td>25</td>\n",
       "      <td>84</td>\n",
       "      <td>11</td>\n",
       "      <td>21</td>\n",
       "      <td>1</td>\n",
       "      <td>...</td>\n",
       "      <td>0</td>\n",
       "      <td>0</td>\n",
       "      <td>0</td>\n",
       "      <td>0</td>\n",
       "      <td>0</td>\n",
       "      <td>0</td>\n",
       "      <td>0</td>\n",
       "      <td>0</td>\n",
       "      <td>9</td>\n",
       "      <td>1314889.0</td>\n",
       "    </tr>\n",
       "    <tr>\n",
       "      <th>3</th>\n",
       "      <td>1</td>\n",
       "      <td>10</td>\n",
       "      <td>8</td>\n",
       "      <td>2</td>\n",
       "      <td>18</td>\n",
       "      <td>2</td>\n",
       "      <td>17</td>\n",
       "      <td>7</td>\n",
       "      <td>0</td>\n",
       "      <td>0</td>\n",
       "      <td>...</td>\n",
       "      <td>0</td>\n",
       "      <td>0</td>\n",
       "      <td>0</td>\n",
       "      <td>0</td>\n",
       "      <td>0</td>\n",
       "      <td>0</td>\n",
       "      <td>0</td>\n",
       "      <td>0</td>\n",
       "      <td>9</td>\n",
       "      <td>1714702.0</td>\n",
       "    </tr>\n",
       "    <tr>\n",
       "      <th>4</th>\n",
       "      <td>0</td>\n",
       "      <td>8</td>\n",
       "      <td>8</td>\n",
       "      <td>0</td>\n",
       "      <td>19</td>\n",
       "      <td>1</td>\n",
       "      <td>4</td>\n",
       "      <td>1</td>\n",
       "      <td>0</td>\n",
       "      <td>0</td>\n",
       "      <td>...</td>\n",
       "      <td>0</td>\n",
       "      <td>0</td>\n",
       "      <td>0</td>\n",
       "      <td>0</td>\n",
       "      <td>0</td>\n",
       "      <td>0</td>\n",
       "      <td>0</td>\n",
       "      <td>0</td>\n",
       "      <td>5</td>\n",
       "      <td>210.0</td>\n",
       "    </tr>\n",
       "  </tbody>\n",
       "</table>\n",
       "<p>5 rows × 176 columns</p>\n",
       "</div>"
      ],
      "text/plain": [
       "   size  created_at_day  created_at_month  created_at_weekday  \\\n",
       "0     0               4                11                   4   \n",
       "1     0               4                11                   4   \n",
       "2     4              13                 9                   1   \n",
       "3     1              10                 8                   2   \n",
       "4     0               8                 8                   0   \n",
       "\n",
       "   created_at_hour  changed_files_number  body_size  commits_number  \\\n",
       "0               19                     1         17               1   \n",
       "1               19                     1         17               1   \n",
       "2               14                    25         84              11   \n",
       "3               18                     2         17               7   \n",
       "4               19                     1          4               1   \n",
       "\n",
       "   filetype_.go  filetype_.yaml  ...  title_wordcount_upload  \\\n",
       "0             1               0  ...                       0   \n",
       "1             1               0  ...                       0   \n",
       "2            21               1  ...                       0   \n",
       "3             0               0  ...                       0   \n",
       "4             0               0  ...                       0   \n",
       "\n",
       "   title_wordcount_upstream  title_wordcount_use  title_wordcount_v1  \\\n",
       "0                         0                    1                   0   \n",
       "1                         0                    0                   0   \n",
       "2                         0                    0                   0   \n",
       "3                         0                    0                   0   \n",
       "4                         0                    0                   0   \n",
       "\n",
       "   title_wordcount_workflow  title_wordcount_write  \\\n",
       "0                         0                      0   \n",
       "1                         0                      0   \n",
       "2                         0                      0   \n",
       "3                         0                      0   \n",
       "4                         0                      0   \n",
       "\n",
       "   title_wordcount_writestring  title_wordcount_yaml  ttm_class  time_to_merge  \n",
       "0                            1                     0          4          106.0  \n",
       "1                            0                     0          3           27.0  \n",
       "2                            0                     0          9      1314889.0  \n",
       "3                            0                     0          9      1714702.0  \n",
       "4                            0                     0          5          210.0  \n",
       "\n",
       "[5 rows x 176 columns]"
      ]
     },
     "execution_count": 82,
     "metadata": {},
     "output_type": "execute_result"
    }
   ],
   "source": [
    "# join all types of features\n",
    "ttm_dataset = pd.concat(\n",
    "    [feature_df, filetype_df, title_wordcount_df], axis=1, ignore_index=False\n",
    ")\n",
    "\n",
    "# keep only the selected features and the prediction label\n",
    "ttm_dataset = ttm_dataset[selected_features + [\"ttm_class\", \"time_to_merge\"]]\n",
    "\n",
    "ttm_dataset.head()"
   ]
  },
  {
   "cell_type": "code",
   "execution_count": 83,
   "id": "4fd9e422-eaf1-4c80-9375-5d71ac985171",
   "metadata": {},
   "outputs": [
    {
     "name": "stdout",
     "output_type": "stream",
     "text": [
      "<class 'pandas.core.frame.DataFrame'>\n",
      "RangeIndex: 64 entries, 0 to 63\n",
      "Columns: 176 entries, size to time_to_merge\n",
      "dtypes: float64(1), int64(175)\n",
      "memory usage: 88.1 KB\n"
     ]
    }
   ],
   "source": [
    "ttm_dataset.info()"
   ]
  },
  {
   "cell_type": "markdown",
   "id": "4a949795",
   "metadata": {},
   "source": [
    "## Save results to Ceph or locally\n",
    "\n",
    "Using the helper function to save the data frame in a parquet format on the Ceph bucket if we are running in automation, and locally if not."
   ]
  },
  {
   "cell_type": "code",
   "execution_count": 84,
   "id": "ecd03940-1b27-4472-ae97-469a4ad8a25a",
   "metadata": {},
   "outputs": [],
   "source": [
    "TTM_DATASET_PATH = os.path.join(s3_input_data_path, ORG, REPO)"
   ]
  },
  {
   "cell_type": "code",
   "execution_count": 85,
   "id": "adfdfb1b",
   "metadata": {},
   "outputs": [],
   "source": [
    "## Sanity check to see if the dataset is the same\n",
    "\n",
    "try:\n",
    "    cc.upload_to_ceph(\n",
    "        ttm_dataset,\n",
    "        TTM_DATASET_PATH,\n",
    "        \"ttm_feature_engineered_dataset.parquet\",\n",
    "    )\n",
    "except ValueError as ve:\n",
    "    print(ve)\n",
    "    print(\"Files already uploaded to S3\")"
   ]
  },
  {
   "cell_type": "markdown",
   "id": "165910c8",
   "metadata": {},
   "source": [
    "# Conclusion\n",
    "\n",
    "This notebook walked through how to access saved raw Pull Requests data from the previous data collection notebook and we engineered some possible features which can be used to predict time to merge of a PR. \n",
    "\n",
    "The features we engineered are as following:\n",
    "\n",
    "- time_to_merge: time taken to merge a PR in seconds, this is feature we will try to predict\n",
    "- changed_files_number: integer indicating the number of files changed, this is an available column\n",
    "- body_size: integer indicating the number of words in the body of the PR, derived from body\n",
    "- size: integer corresponding to a categorical label generated by GitHub which summarizes the size of the changes made to the code base \n",
    "- title_word_counts_vec: vector or list indicating how many times each word appeared in the title\n",
    "- created_at_day: categorical variable indicating the day of month the PR has been created, derived from created_at\n",
    "- created_at_month: categorical variable indicating the month of the year that the PR has been created, derived from created_at\n",
    "- created_at_weekday: categorical variable indicating the day of the week the PR has been created, derived from created_at\n",
    "- created_at_hour: categorical variable indicating the hour of the day the PR has been created, derived from created_at\n",
    "- commits_number: integer indicating the number of commits in the PR\n",
    "- changed_file_type_vec:  vector or list consisting of number of files changed for the top 100 most frequently occurring data types, derived from changed_files\n",
    "\n",
    "\n",
    "# Next Step\n",
    "\n",
    "In the next [notebook](./03_model_training.ipynb), we will train a classifier to predict time to merge of a PR using the features."
   ]
  }
 ],
 "metadata": {
  "kernelspec": {
   "display_name": "Python 3 (ipykernel)",
   "language": "python",
   "name": "python3"
  },
  "language_info": {
   "codemirror_mode": {
    "name": "ipython",
    "version": 3
   },
   "file_extension": ".py",
   "mimetype": "text/x-python",
   "name": "python",
   "nbconvert_exporter": "python",
   "pygments_lexer": "ipython3",
   "version": "3.8.8"
  }
 },
 "nbformat": 4,
 "nbformat_minor": 5
}
